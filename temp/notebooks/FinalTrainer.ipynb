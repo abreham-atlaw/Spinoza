{
 "cells": [
  {
   "cell_type": "code",
   "execution_count": 1,
   "metadata": {
    "collapsed": true
   },
   "outputs": [
    {
     "name": "stderr",
     "output_type": "stream",
     "text": [
      "2022-02-26 18:28:29.922582: W tensorflow/stream_executor/platform/default/dso_loader.cc:64] Could not load dynamic library 'libcudart.so.11.0'; dlerror: libcudart.so.11.0: cannot open shared object file: No such file or directory\n2022-02-26 18:28:29.922698: I tensorflow/stream_executor/cuda/cudart_stub.cc:29] Ignore above cudart dlerror if you do not have a GPU set up on your machine.\n"
     ]
    },
    {
     "name": "stdout",
     "output_type": "stream",
     "text": [
      "Couldn't Connect to Postgres could not connect to server: Connection refused\n\tIs the server running on host \"localhost\" (::1) and accepting\n\tTCP/IP connections on port 5432?\ncould not connect to server: Connection refused\n\tIs the server running on host \"localhost\" (127.0.0.1) and accepting\n\tTCP/IP connections on port 5432?\n\n"
     ]
    }
   ],
   "source": [
    "from typing import *\n",
    "\n",
    "import tensorflow as tf\n",
    "import numpy as np\n",
    "import pandas as pd\n",
    "from tensorflow.python import keras\n",
    "from tensorflow.python.keras import callbacks\n",
    "\n",
    "import os\n",
    "from datetime import datetime\n",
    "\n",
    "from lib.dnn.utils import KerasTrainer\n",
    "from core.utils.cached_optimizer import CachedOptimizer\n",
    "from core.utils.file_storage import DropboxClient\n",
    "from lib.dnn.layers import Delta, MovingAverage, Percentage\n"
   ]
  },
  {
   "cell_type": "code",
   "execution_count": 10,
   "metadata": {},
   "outputs": [],
   "source": [
    "FILES = [os.path.join(\"Data/Minutes\", path) for path in os.listdir(\"Data/Minutes\")[:2]]\n",
    "DATA_PATH = os.path.abspath(\"temp/All.csv\")\n",
    "TRAINER_CONFIG = {\n",
    "\t\"seq_len\": 64,\n",
    "\t\"hidden_layers\": [1024, 2048, 1024, 64, 32],\n",
    "\t\"delta\": True,\n",
    "\t\"percentage\": True,\n",
    "\t\"hidden_activation\": \"relu\",\n",
    "\t\"optimizer\": \"adam\",\n",
    "\t\"loss\": \"binary_crossentropy\",\n",
    "\t\"average_window\": 0\n",
    "}\n"
   ]
  },
  {
   "cell_type": "code",
   "execution_count": 3,
   "metadata": {},
   "outputs": [],
   "source": [
    "class ModelCheckpointCallback(callbacks.Callback):\n",
    "\t\n",
    "\tdef __init(self, *args, **kwargs):\n",
    "\t\tsuper(ModelCheckpointCallback, self).__init(*args, **kwargs)\n",
    "\t\tself.__dropbox_client = DropboxClient()\n",
    "\t\n",
    "\tdef __save_model(selIt is. And it f, model: keras.Model) -> str:\n",
    "\t\tfile_name = f\"{datetime.now().timestamp()}.h5\"\n",
    "\t\tmodel.save(file_name)\n",
    "\t\treturn file_name\n",
    "\t\t\n",
    "\tdef __upload_model(self, model_path: str):\n",
    "\t\tself.__dropbox_client.upload_file(model_path)\n",
    "\t\n",
    "\tdef on_epoch_end(self, epoch, logs=None):\n",
    "\t\tprint(\"[+]Saving Model...\")\n",
    "\t\tpath = self.__save_model(self.model)\n",
    "\t\tprint(\"[+]Uploading Model...\")\n",
    "\t\tself.__upload_model(path)\n"
   ]
  },
  {
   "cell_type": "code",
   "execution_count": 4,
   "metadata": {},
   "outputs": [],
   "source": [
    "class Trainer(KerasTrainer):\n",
    "\tdef __init__(self, seq_len, hidden_layers: List[int], *args,\n",
    "\t\t\t\t\tloss=\"binary_crossentropy\",\n",
    "\t\t\t\t\toptimizer=\"adam\",\n",
    "\t\t\t\t\thidden_activation=\"relu\",\n",
    "\t\t\t\t\tdelta=True,\n",
    "\t\t\t\t\taverage_window=None,\n",
    "\t\t\t\t\tpercentage=True,\n",
    "\t\t\t\t\t**kwargs):\n",
    "\t\tsuper(Trainer, self).__init__(*args, **kwargs)\n",
    "\t\tself.__seq_len = seq_len\n",
    "\t\tself.__hidden_layers = hidden_layers\n",
    "\t\tself.__loss = loss\n",
    "\t\tself.__optimizer = optimizer\n",
    "\t\tself.__hidden_activation = hidden_activation\n",
    "\t\tself.__delta = delta\n",
    "\t\tself.__percentage = percentage\n",
    "\t\tself.__average_window = average_window\n",
    "\t\tif average_window is not None:\n",
    "\t\t\tself.__average_window = int(self.__seq_len * average_window)\n",
    "\n",
    "\tdef __get_currency_pairs(self, df: pd.DataFrame) -> List[Tuple[str, str]]:\n",
    "\t\tDELIMITER = \"/\"\n",
    "\t\treturn [\n",
    "\t\t\t(pair.split(DELIMITER)[0], pair.split(DELIMITER)[1]) for pair in\n",
    "\t\t\tset(df[\"base_currency\"] + DELIMITER + df[\"quote_currency\"])\n",
    "\t\t]  # TODO FIND A CLEAR WAY\n",
    "\n",
    "\tdef __prepare_for_pair(self, sequence: np.ndarray, seq_len: int):\n",
    "\t\tdata_len = sequence.shape[0] - seq_len\n",
    "\t\tX = np.zeros((data_len, seq_len))\n",
    "\t\ty = np.zeros((data_len,))\n",
    "\t\tfor i in range(data_len):\n",
    "\t\t\tX[i] = sequence[i:i + seq_len]\n",
    "\t\t\tif sequence[i] > sequence[i - 1]:\n",
    "\t\t\t\ty[i] = 1\n",
    "\t\t\telse:\n",
    "\t\t\t\ty[i] = 0\n",
    "\t\treturn X, y\n",
    "\n",
    "\tdef _prepare_data(self, data: pd.DataFrame) -> Tuple[np.ndarray, np.ndarray]:\n",
    "\t\tcurrency_pairs = self.__get_currency_pairs(data)\n",
    "\n",
    "\t\tX = []\n",
    "\t\ty = []\n",
    "\n",
    "\t\tfor base_currency, quote_currency in currency_pairs:\n",
    "\t\t\tpair_sequence = data[data[\"base_currency\"] == base_currency][\n",
    "\t\t\t\tdata[data[\"base_currency\"] == base_currency][\"quote_currency\"] == quote_currency][\n",
    "\t\t\t\t\"c\"].to_numpy()  # TODO\n",
    "\t\t\tpair_X, pair_y = self.__prepare_for_pair(pair_sequence, self.__seq_len)\n",
    "\t\t\tX += list(pair_X)\n",
    "\t\t\ty += list(pair_y)\n",
    "\n",
    "\t\treturn np.array(X), np.array(y)\n",
    "\n",
    "\tdef _create_model(self) -> keras.Model:\n",
    "\t\tinput_layer = keras.layers.Input(shape=self.__seq_len)\n",
    "\n",
    "\t\tpre_hidden_layer = input_layer\n",
    "\n",
    "\t\tif self.__average_window != 0:\n",
    "\t\t\tpre_hidden_layer = MovingAverage(self.__average_window)(pre_hidden_layer)\n",
    "\n",
    "\t\tpre_hidden_layer_copy = pre_hidden_layer[:, : -1]\n",
    "\n",
    "\t\tif self.__delta:\n",
    "\t\t\tpre_hidden_layer = Delta()(pre_hidden_layer)\n",
    "\t\telse:\n",
    "\t\t\tpre_hidden_layer = pre_hidden_layer[:, 1:]\n",
    "\n",
    "\t\tif self.__percentage:\n",
    "\t\t\tpre_hidden_layer = tf.concat(\n",
    "\t\t\t\t(\n",
    "\t\t\t\t\ttf.reshape(pre_hidden_layer, (-1, 1, pre_hidden_layer.shape[1])),\n",
    "\t\t\t\t\ttf.reshape(pre_hidden_layer_copy, (-1, 1, pre_hidden_layer.shape[1]))\n",
    "\t\t\t\t),\n",
    "\t\t\t\taxis=1\n",
    "\t\t\t)\n",
    "\t\t\tpre_hidden_layer = Percentage()(pre_hidden_layer)\n",
    "\n",
    "\t\toutput_layer = keras.layers.Dense(1, activation=\"sigmoid\")\n",
    "\n",
    "\t\tif len(self.__hidden_layers) == 0:\n",
    "\t\t\toutput_layer = output_layer(pre_hidden_layer)\n",
    "\t\telse:\n",
    "\t\t\thidden_layer = keras.layers.Dense(self.__hidden_layers[0], activation=self.__hidden_activation)(\n",
    "\t\t\t\tpre_hidden_layer)\n",
    "\t\t\tfor layer_size in self.__hidden_layers[1:]:\n",
    "\t\t\t\thidden_layer = keras.layers.Dense(layer_size, activation=self.__hidden_activation)(hidden_layer)\n",
    "\t\t\toutput_layer = output_layer(hidden_layer)\n",
    "\n",
    "\t\tmodel = keras.Model(inputs=input_layer, outputs=output_layer)\n",
    "\n",
    "\t\treturn model\n",
    "\n",
    "\tdef _compile_model(self, model: keras.Model):\n",
    "\t\tmodel.compile(loss=self.__loss, optimizer=self.__optimizer, metrics=[\"accuracy\"])\n"
   ]
  },
  {
   "cell_type": "code",
   "execution_count": 5,
   "metadata": {},
   "outputs": [],
   "source": [
    "def merge_data(files=None, export_path=DATA_PATH):\n",
    "\tif files is None:\n",
    "\t\tfiles = FILES\n",
    "\tdf = None\n",
    "\tfor i, path in enumerate(files):\n",
    "\t\tpair_df = pd.read_csv(path, index_col=0)\n",
    "\t\tif df is None:\n",
    "\t\t\tdf = pair_df\n",
    "\t\t\tcontinue\n",
    "\t\tdf = df.append(pair_df)\n",
    "\t\tprint(f\"{(100 * (i+1))/len(files): .2f} %\", end=\"\\r\")\n",
    "\tdf.to_csv(export_path)\n",
    "\tdel df\n"
   ]
  },
  {
   "cell_type": "code",
   "execution_count": 11,
   "metadata": {},
   "outputs": [
    {
     "name": "stdout",
     "output_type": "stream",
     "text": [
      " 100.00 %\r"
     ]
    }
   ],
   "source": [
    "merge_data()\n"
   ]
  },
  {
   "cell_type": "code",
   "execution_count": 12,
   "metadata": {
    "collapsed": true
   },
   "outputs": [
    {
     "name": "stdout",
     "output_type": "stream",
     "text": [
      "[+]Starting Training...\n[+]Loading Data: /home/abreham/Projects/Personal_Projects/Mini_Projects/ForexTrader/RTrader/RTrader/temp/All.csv\n"
     ]
    }
   ],
   "source": [
    "trainer = Trainer(\n",
    "\t**TRAINER_CONFIG, \n",
    "\texport_path=\"finalModel.h5\", \n",
    "\tdata_path=DATA_PATH, \n",
    "\tepochs=50, \n",
    "\tfit_params={\n",
    "\t\t\"callbacks\": [ModelCheckpointCallback()]\n",
    "\t})\n",
    "trainer.start()\n"
   ]
  },
  {
   "cell_type": "code",
   "execution_count": null,
   "metadata": {},
   "outputs": [],
   "source": []
  }
 ],
 "metadata": {
  "kernelspec": {
   "display_name": "Python 2",
   "language": "python",
   "name": "python2"
  },
  "language_info": {
   "codemirror_mode": {
    "name": "ipython",
    "version": 2
   },
   "file_extension": ".py",
   "mimetype": "text/x-python",
   "name": "python",
   "nbconvert_exporter": "python",
   "pygments_lexer": "ipython2",
   "version": "2.7.6"
  }
 },
 "nbformat": 4,
 "nbformat_minor": 0
}
