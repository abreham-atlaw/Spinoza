{
  "metadata": {
    "kernelspec": {
      "display_name": "Python 3",
      "name": "python3"
    },
    "language_info": {
      "name": "python",
      "version": "3.10.13",
      "mimetype": "text/x-python",
      "codemirror_mode": {
        "name": "ipython",
        "version": 3
      },
      "pygments_lexer": "ipython3",
      "nbconvert_exporter": "python",
      "file_extension": ".py"
    },
    "kaggle": {
      "accelerator": "none",
      "dataSources": [
        {
          "sourceId": 199105437,
          "sourceType": "kernelVersion"
        },
        {
          "sourceId": 199602130,
          "sourceType": "kernelVersion"
        },
        {
          "sourceId": 199602285,
          "sourceType": "kernelVersion"
        },
        {
          "sourceId": 199602296,
          "sourceType": "kernelVersion"
        }
      ],
      "dockerImageVersionId": 30673,
      "isInternetEnabled": true,
      "language": "python",
      "sourceType": "notebook",
      "isGpuEnabled": false
    },
    "colab": {
      "provenance": [],
      "gpuType": "T4"
    },
    "accelerator": "GPU"
  },
  "nbformat_minor": 0,
  "nbformat": 4,
  "cells": [
    {
      "cell_type": "code",
      "source": [
        "!rm -fr r_trader out\n",
        "!mkdir out input\n",
        "!git clone https://github.com/abreham-atlaw/r_trader\n",
        "!cd r_trader &&  git checkout deep-reinforcement.training-experiment-linear\n",
        "!pip install cattrs positional-encodings==6.0.1 dropbox pymongo==4.3.3 dependency-injector==4.41.0"
      ],
      "metadata": {
        "_uuid": "8f2839f25d086af736a60e9eeb907d3b93b6e0e5",
        "_cell_guid": "b1076dfc-b9ad-4769-8c92-a6c4dae69d19",
        "execution": {
          "iopub.status.busy": "2024-10-31T09:02:01.845346Z",
          "iopub.execute_input": "2024-10-31T09:02:01.845729Z",
          "iopub.status.idle": "2024-10-31T09:02:33.489394Z",
          "shell.execute_reply.started": "2024-10-31T09:02:01.845699Z",
          "shell.execute_reply": "2024-10-31T09:02:33.488219Z"
        },
        "trusted": true,
        "id": "yTy8lL_P2qql",
        "outputId": "79c7a907-294a-432f-bffe-f6d44d2f2bc7",
        "colab": {
          "base_uri": "https://localhost:8080/"
        }
      },
      "execution_count": 1,
      "outputs": [
        {
          "output_type": "stream",
          "name": "stdout",
          "text": [
            "Cloning into 'r_trader'...\n",
            "remote: Enumerating objects: 12948, done.\u001b[K\n",
            "remote: Counting objects: 100% (3862/3862), done.\u001b[K\n",
            "remote: Compressing objects: 100% (1078/1078), done.\u001b[K\n",
            "remote: Total 12948 (delta 2838), reused 3784 (delta 2760), pack-reused 9086 (from 1)\u001b[K\n",
            "Receiving objects: 100% (12948/12948), 76.54 MiB | 25.46 MiB/s, done.\n",
            "Resolving deltas: 100% (9170/9170), done.\n",
            "Branch 'deep-reinforcement.training-experiment-linear' set up to track remote branch 'deep-reinforcement.training-experiment-linear' from 'origin'.\n",
            "Switched to a new branch 'deep-reinforcement.training-experiment-linear'\n",
            "Requirement already satisfied: cattrs in /usr/local/lib/python3.10/dist-packages (24.1.2)\n",
            "Requirement already satisfied: positional-encodings==6.0.1 in /usr/local/lib/python3.10/dist-packages (6.0.1)\n",
            "Requirement already satisfied: dropbox in /usr/local/lib/python3.10/dist-packages (12.0.2)\n",
            "Requirement already satisfied: pymongo==4.3.3 in /usr/local/lib/python3.10/dist-packages (4.3.3)\n",
            "Requirement already satisfied: dependency-injector==4.41.0 in /usr/local/lib/python3.10/dist-packages (4.41.0)\n",
            "Requirement already satisfied: numpy in /usr/local/lib/python3.10/dist-packages (from positional-encodings==6.0.1) (1.26.4)\n",
            "Requirement already satisfied: dnspython<3.0.0,>=1.16.0 in /usr/local/lib/python3.10/dist-packages (from pymongo==4.3.3) (2.7.0)\n",
            "Requirement already satisfied: six<=1.16.0,>=1.7.0 in /usr/local/lib/python3.10/dist-packages (from dependency-injector==4.41.0) (1.16.0)\n",
            "Requirement already satisfied: attrs>=23.1.0 in /usr/local/lib/python3.10/dist-packages (from cattrs) (24.2.0)\n",
            "Requirement already satisfied: exceptiongroup>=1.1.1 in /usr/local/lib/python3.10/dist-packages (from cattrs) (1.2.2)\n",
            "Requirement already satisfied: typing-extensions!=4.6.3,>=4.1.0 in /usr/local/lib/python3.10/dist-packages (from cattrs) (4.12.2)\n",
            "Requirement already satisfied: requests>=2.16.2 in /usr/local/lib/python3.10/dist-packages (from dropbox) (2.32.3)\n",
            "Requirement already satisfied: stone<3.3.3,>=2 in /usr/local/lib/python3.10/dist-packages (from dropbox) (3.3.1)\n",
            "Requirement already satisfied: charset-normalizer<4,>=2 in /usr/local/lib/python3.10/dist-packages (from requests>=2.16.2->dropbox) (3.4.0)\n",
            "Requirement already satisfied: idna<4,>=2.5 in /usr/local/lib/python3.10/dist-packages (from requests>=2.16.2->dropbox) (3.10)\n",
            "Requirement already satisfied: urllib3<3,>=1.21.1 in /usr/local/lib/python3.10/dist-packages (from requests>=2.16.2->dropbox) (2.2.3)\n",
            "Requirement already satisfied: certifi>=2017.4.17 in /usr/local/lib/python3.10/dist-packages (from requests>=2.16.2->dropbox) (2024.8.30)\n",
            "Requirement already satisfied: ply>=3.4 in /usr/local/lib/python3.10/dist-packages (from stone<3.3.3,>=2->dropbox) (3.11)\n"
          ]
        }
      ]
    },
    {
      "cell_type": "code",
      "source": [
        "import os\n",
        "KAGGLE_ENV = os.path.exists(\"/kaggle/working\")\n",
        "REPO_PATH = \"/kaggle/working/r_trader\" if KAGGLE_ENV else \"/content/r_trader\"\n",
        "\n",
        "print(f\"KAGGLE ENV: {KAGGLE_ENV}\")\n",
        "\n",
        "import sys\n",
        "sys.path.append(REPO_PATH)"
      ],
      "metadata": {
        "execution": {
          "iopub.status.busy": "2024-10-31T09:02:33.492046Z",
          "iopub.execute_input": "2024-10-31T09:02:33.493060Z",
          "iopub.status.idle": "2024-10-31T09:02:33.498719Z",
          "shell.execute_reply.started": "2024-10-31T09:02:33.493012Z",
          "shell.execute_reply": "2024-10-31T09:02:33.497311Z"
        },
        "trusted": true,
        "id": "Lhr8T1o52qqq",
        "outputId": "e63658e0-6322-4e1b-e4a6-d6b06df2f2e2",
        "colab": {
          "base_uri": "https://localhost:8080/"
        }
      },
      "execution_count": 2,
      "outputs": [
        {
          "output_type": "stream",
          "name": "stdout",
          "text": [
            "KAGGLE ENV: False\n"
          ]
        }
      ]
    },
    {
      "cell_type": "code",
      "source": [
        "import numpy as np\n",
        "import torch\n",
        "import torch.nn as nn\n",
        "from torch.utils.data import DataLoader\n",
        "from torch.optim import Adam, SGD, Adagrad\n",
        "import matplotlib.pyplot as plt\n",
        "\n",
        "import os\n",
        "import signal\n",
        "\n",
        "from core.utils.research.data.load.dataset import BaseDataset\n",
        "from core.utils.research.training.trainer import Trainer\n",
        "from core.utils.research.model.model.cnn.model import CNN\n",
        "from core.utils.research.model.model.linear.model import LinearModel\n",
        "from lib.utils.torch_utils.model_handler import ModelHandler\n",
        "from core.utils.research.training.callbacks.checkpoint_callback import CheckpointCallback, StoreCheckpointCallback\n",
        "from core.utils.research.training.data.repositories.checkpoint_repository import CheckpointRepository\n",
        "from lib.utils.file_storage import PCloudClient\n",
        "from core.utils.research.training.data.state import TrainingState\n",
        "from core import Config\n",
        "from core.utils.research.training.callbacks.metric_callback import MetricCallback\n",
        "from core.utils.research.training.data.repositories.metric_repository import MetricRepository, MongoDBMetricRepository\n",
        "from core.utils.kaggle import FusedManager\n",
        "from core.di import init_di, ApplicationContainer\n",
        "from core.utils.research.training.data.metric import MetricsContainer\n",
        "from core.utils.research.model.layers import Indicators\n",
        "from core.di import ServiceProvider\n",
        "from core.utils.research.losses import OutputBatchVarianceLoss, MultiLoss\n",
        "from core.utils.kaggle.data_repository import KaggleDataRepository"
      ],
      "metadata": {
        "execution": {
          "iopub.status.busy": "2024-10-31T09:02:33.500241Z",
          "iopub.execute_input": "2024-10-31T09:02:33.500578Z",
          "iopub.status.idle": "2024-10-31T09:02:39.303289Z",
          "shell.execute_reply.started": "2024-10-31T09:02:33.500551Z",
          "shell.execute_reply": "2024-10-31T09:02:39.301930Z"
        },
        "trusted": true,
        "id": "Fz56LjYe2qqs"
      },
      "execution_count": 3,
      "outputs": []
    },
    {
      "cell_type": "code",
      "source": [
        "def download_data(root, datasets, zip_filename, kernel_mode=True, checksums=None):\n",
        "    repository = KaggleDataRepository(\n",
        "        output_path=root,\n",
        "        zip_filename=zip_filename\n",
        "    )\n",
        "    repository.download_multiple(datasets, kernel=kernel_mode, checksums=checksums)\n",
        "    os.system(f\"unzip -d root/\")"
      ],
      "metadata": {
        "id": "7GKPcBWC4CA5"
      },
      "execution_count": 4,
      "outputs": []
    },
    {
      "cell_type": "code",
      "source": [
        "DATA_ROOT = \"/kaggle/input\" if KAGGLE_ENV else \"/content/input\"\n",
        "\n",
        "DATASETS = [\n",
        "    f\"abrehamatlaw0/spinoza-ds-datapreparer-simsim-cum-0-it-2-{i}\"\n",
        "    for i in range(0,4)\n",
        "]\n",
        "CHECKSUMS = None\n",
        "KERNEL_MODE = False\n",
        "ZIP_FILENAME = \"out.zip\"\n",
        "if not KAGGLE_ENV:\n",
        "    download_data(DATA_ROOT, DATASETS, ZIP_FILENAME, kernel_mode=KERNEL_MODE, checksums=CHECKSUMS)\n",
        "\n",
        "\n",
        "CONTAINERS = [os.path.join(DATA_ROOT, container) for container in os.listdir(DATA_ROOT)]\n",
        "DATA_PATHES, TEST_DATA_PATHES = [\n",
        "    [\n",
        "        os.path.join(container, \"out\", type_)\n",
        "        for container in CONTAINERS\n",
        "    ]\n",
        "    for type_ in [\"train\", \"test\"]\n",
        "]\n",
        "\n",
        "NOTEBOOK_ID = \"abrehamalemu/rtrader-training-exp-0-linear-124-cum-0-it-4-tot\"\n",
        "MODEL_ID = NOTEBOOK_ID.replace(\"/\", \"-\")\n",
        "\n",
        "NUM_FILES = None\n",
        "DATA_CACHE_SIZE = 2\n",
        "DATALOADER_WORKERS = 4\n",
        "\n",
        "VOCAB_SIZE = 431\n",
        "DROPOUT = 0.3\n",
        "LAYER_SIZES = [512 for _ in range(5)] + [VOCAB_SIZE + 1]\n",
        "HIDDEN_ACTIVATION = nn.LeakyReLU()\n",
        "INIT_FUNCTION = None\n",
        "NORM = [True] + [False for _ in LAYER_SIZES[1:]]\n",
        "BLOCK_SIZE = 1148\n",
        "LR = 1e-4\n",
        "LOSS_WEIGHTS = [0.7, 0.3]\n",
        "\n",
        "BATCH_SIZE = 64\n",
        "EPOCHS = 300\n",
        "TIMEOUT = 10*60*60\n",
        "\n",
        "DTYPE = torch.float32\n",
        "NP_DTYPE = np.float32\n",
        "\n",
        "MODEL_URL = None\n",
        "SAVE_PATH = os.path.abspath(\"./out/model.zip\")\n",
        "STATE_SAVE_PATH = os.path.abspath(\"./out/model.zip\")\n",
        "\n",
        "METRIC_REPOSITORY = MongoDBMetricRepository(\n",
        "    Config.MONGODB_URL,\n",
        "    MODEL_ID\n",
        ")\n",
        "\n",
        "CALLBACKS = [\n",
        "    StoreCheckpointCallback(path=SAVE_PATH),\n",
        "    MetricCallback(\n",
        "       METRIC_REPOSITORY\n",
        "    )\n",
        "]"
      ],
      "metadata": {
        "execution": {
          "iopub.status.busy": "2024-10-31T09:02:39.305947Z",
          "iopub.execute_input": "2024-10-31T09:02:39.306494Z",
          "iopub.status.idle": "2024-10-31T09:02:39.357102Z",
          "shell.execute_reply.started": "2024-10-31T09:02:39.306461Z",
          "shell.execute_reply": "2024-10-31T09:02:39.355951Z"
        },
        "trusted": true,
        "id": "_iDDln8t2qqt",
        "outputId": "fc036bdb-2edd-4f16-b06b-f7d0afcd0f91",
        "colab": {
          "base_uri": "https://localhost:8080/"
        }
      },
      "execution_count": null,
      "outputs": [
        {
          "output_type": "stream",
          "name": "stdout",
          "text": [
            "\u001b[94m PID:5651 [2024-10-31 09:32:57.316563]  Downloading abrehamatlaw0/spinoza-ds-datapreparer-simsim-cum-0-it-2-0 \u001b[0m\n",
            "\u001b[94m PID:5651 [2024-10-31 09:32:57.319518]  Downloading to /content/input/abrehamatlaw0-spinoza-ds-datapreparer-simsim-cum-0-it-2-0 \u001b[0m\n",
            "\u001b[94m PID:5651 [2024-10-31 09:32:57.322348]  Checking pre-downloaded for /content/input/abrehamatlaw0-spinoza-ds-datapreparer-simsim-cum-0-it-2-0 \u001b[0m\n",
            "\u001b[94m PID:5651 [2024-10-31 09:32:57.325886]  Cleaning /content/input/abrehamatlaw0-spinoza-ds-datapreparer-simsim-cum-0-it-2-0 \u001b[0m\n",
            "\u001b[94m PID:5651 [2024-10-31 09:32:57.669739]  Using Account: bemnetatlaw \u001b[0m\n",
            "Dataset URL: https://www.kaggle.com/datasets/abrehamatlaw0/spinoza-ds-datapreparer-simsim-cum-0-it-2-0\n",
            "\u001b[94m PID:5651 [2024-10-31 09:32:59.118954]  Unzipping Data... \u001b[0m\n"
          ]
        }
      ]
    },
    {
      "cell_type": "code",
      "source": [
        "repository = CheckpointRepository(\n",
        "    ServiceProvider.provide_file_storage()\n",
        ")"
      ],
      "metadata": {
        "execution": {
          "iopub.status.busy": "2024-10-31T09:02:39.358332Z",
          "iopub.execute_input": "2024-10-31T09:02:39.358659Z",
          "iopub.status.idle": "2024-10-31T09:02:39.392468Z",
          "shell.execute_reply.started": "2024-10-31T09:02:39.358630Z",
          "shell.execute_reply": "2024-10-31T09:02:39.391453Z"
        },
        "trusted": true,
        "id": "nBBeVrcX2qqu"
      },
      "execution_count": null,
      "outputs": []
    },
    {
      "cell_type": "code",
      "source": [
        "state_model = repository.get(MODEL_ID)\n",
        "# state_model = None\n",
        "if state_model is None:\n",
        "    print(\"[+]Creating a new model...\")\n",
        "\n",
        "    model = LinearModel(\n",
        "        dropout_rate=DROPOUT,\n",
        "        layer_sizes=LAYER_SIZES,\n",
        "        hidden_activation=HIDDEN_ACTIVATION,\n",
        "        init_fn=INIT_FUNCTION,\n",
        "        norm=NORM,\n",
        "        input_size=BLOCK_SIZE\n",
        "    )\n",
        "\n",
        "else:\n",
        "    print(\"[+]Using loaded model...\")\n",
        "    state, model = state_model\n",
        "state = TrainingState(\n",
        "    epoch=0,\n",
        "    batch=0,\n",
        "    id=MODEL_ID\n",
        ")"
      ],
      "metadata": {
        "execution": {
          "iopub.status.busy": "2024-10-31T09:02:39.393672Z",
          "iopub.execute_input": "2024-10-31T09:02:39.394013Z",
          "iopub.status.idle": "2024-10-31T09:02:40.931557Z",
          "shell.execute_reply.started": "2024-10-31T09:02:39.393984Z",
          "shell.execute_reply": "2024-10-31T09:02:40.930328Z"
        },
        "trusted": true,
        "id": "THVl37Fe2qqw"
      },
      "execution_count": null,
      "outputs": []
    },
    {
      "cell_type": "code",
      "source": [
        "dataset = BaseDataset(\n",
        "    root_dirs=DATA_PATHES,\n",
        "    out_dtypes=NP_DTYPE,\n",
        "    num_files=NUM_FILES\n",
        ")\n",
        "dataloader = DataLoader(dataset, batch_size=BATCH_SIZE, num_workers=DATALOADER_WORKERS, pin_memory=True)"
      ],
      "metadata": {
        "execution": {
          "iopub.status.busy": "2024-10-31T09:02:40.932830Z",
          "iopub.execute_input": "2024-10-31T09:02:40.933213Z",
          "iopub.status.idle": "2024-10-31T09:02:42.185212Z",
          "shell.execute_reply.started": "2024-10-31T09:02:40.933182Z",
          "shell.execute_reply": "2024-10-31T09:02:42.183884Z"
        },
        "trusted": true,
        "id": "NixtuF3E2qqx"
      },
      "execution_count": null,
      "outputs": []
    },
    {
      "cell_type": "code",
      "source": [
        "test_dataset = BaseDataset(\n",
        "    root_dirs=TEST_DATA_PATHES,\n",
        "    out_dtypes=NP_DTYPE,\n",
        "    num_files=NUM_FILES\n",
        ")\n",
        "test_dataloader = DataLoader(test_dataset, batch_size=BATCH_SIZE, num_workers=DATALOADER_WORKERS, pin_memory=True)"
      ],
      "metadata": {
        "execution": {
          "iopub.status.busy": "2024-10-31T09:02:42.187351Z",
          "iopub.execute_input": "2024-10-31T09:02:42.188068Z",
          "iopub.status.idle": "2024-10-31T09:02:43.307539Z",
          "shell.execute_reply.started": "2024-10-31T09:02:42.188020Z",
          "shell.execute_reply": "2024-10-31T09:02:43.306377Z"
        },
        "trusted": true,
        "id": "7fya-6iw2qqy"
      },
      "execution_count": null,
      "outputs": []
    },
    {
      "cell_type": "code",
      "source": [
        "trainer = Trainer(model, callbacks=CALLBACKS)"
      ],
      "metadata": {
        "execution": {
          "iopub.status.busy": "2024-10-31T09:02:43.309094Z",
          "iopub.execute_input": "2024-10-31T09:02:43.309456Z",
          "iopub.status.idle": "2024-10-31T09:02:43.319326Z",
          "shell.execute_reply.started": "2024-10-31T09:02:43.309427Z",
          "shell.execute_reply": "2024-10-31T09:02:43.318175Z"
        },
        "trusted": true,
        "id": "S0Wg7Lze2qqz"
      },
      "execution_count": null,
      "outputs": []
    },
    {
      "cell_type": "code",
      "source": [
        "trainer.cls_loss_function = MultiLoss(\n",
        "    losses = [\n",
        "        nn.CrossEntropyLoss(),\n",
        "        OutputBatchVarianceLoss()\n",
        "    ],\n",
        "    weights = LOSS_WEIGHTS,\n",
        "    device=trainer.device\n",
        ")\n",
        "trainer.reg_loss_function = nn.MSELoss()\n",
        "trainer.optimizer = Adam(trainer.model.parameters(), lr=LR)"
      ],
      "metadata": {
        "execution": {
          "iopub.status.busy": "2024-10-31T09:02:43.323878Z",
          "iopub.execute_input": "2024-10-31T09:02:43.324568Z",
          "iopub.status.idle": "2024-10-31T09:02:45.968608Z",
          "shell.execute_reply.started": "2024-10-31T09:02:43.324530Z",
          "shell.execute_reply": "2024-10-31T09:02:45.967472Z"
        },
        "trusted": true,
        "id": "XR1MRp1P2qq0"
      },
      "execution_count": null,
      "outputs": []
    },
    {
      "cell_type": "code",
      "source": [
        "class TimeoutException(Exception):\n",
        "    pass\n",
        "\n",
        "def handle_timeout(*args, **kwargs):\n",
        "    raise TimeoutException()\n",
        "\n",
        "signal.signal(signal.SIGALRM, handle_timeout)\n",
        "signal.alarm(TIMEOUT)"
      ],
      "metadata": {
        "execution": {
          "iopub.status.busy": "2024-10-31T09:02:45.970248Z",
          "iopub.execute_input": "2024-10-31T09:02:45.971481Z",
          "iopub.status.idle": "2024-10-31T09:02:45.980266Z",
          "shell.execute_reply.started": "2024-10-31T09:02:45.971433Z",
          "shell.execute_reply": "2024-10-31T09:02:45.979197Z"
        },
        "trusted": true,
        "id": "qnbhTOOi2qq2"
      },
      "execution_count": null,
      "outputs": []
    },
    {
      "cell_type": "code",
      "source": [
        "try:\n",
        "    trainer.train(dataloader, val_dataloader=test_dataloader, epochs=EPOCHS, progress=True, progress_interval=100, state=state, cls_loss_only=False)\n",
        "except TimeoutException:\n",
        "    pass"
      ],
      "metadata": {
        "execution": {
          "iopub.status.busy": "2024-10-31T09:02:45.981648Z",
          "iopub.execute_input": "2024-10-31T09:02:45.982100Z"
        },
        "trusted": true,
        "id": "-k54d7J_2qq3"
      },
      "execution_count": null,
      "outputs": []
    },
    {
      "cell_type": "code",
      "source": [
        "ModelHandler.save(model, SAVE_PATH)"
      ],
      "metadata": {
        "trusted": true,
        "id": "IMDCpQWe2qq4"
      },
      "execution_count": null,
      "outputs": []
    },
    {
      "cell_type": "code",
      "source": [
        "repository.update(trainer.state, trainer.model)"
      ],
      "metadata": {
        "trusted": true,
        "id": "HO_B9L2s2qq5"
      },
      "execution_count": null,
      "outputs": []
    },
    {
      "cell_type": "code",
      "source": [
        "metrics = MetricsContainer()\n",
        "for metric in METRIC_REPOSITORY.get_all():\n",
        "    metrics.add_metric(metric)\n",
        "\n",
        "for i in range(3):\n",
        "    train_losses = [metric.value[i] for metric in metrics.filter_metrics(source=0)]\n",
        "    val_losses = [metric.value[i] for metric in metrics.filter_metrics(source=1)]\n",
        "    plt.figure()\n",
        "    plt.plot(train_losses)\n",
        "    plt.plot(val_losses)\n",
        "    plt.show()"
      ],
      "metadata": {
        "trusted": true,
        "id": "vBNhT0tn2qq6"
      },
      "execution_count": null,
      "outputs": []
    },
    {
      "cell_type": "code",
      "source": [
        "for X, y in test_dataloader:\n",
        "    break\n",
        "y_hat = model(X.to(trainer.device)).detach().cpu().numpy()\n",
        "\n",
        "import matplotlib.pyplot as plt\n",
        "def softmax(x):\n",
        "    exp_x = np.exp(x - np.max(x))\n",
        "    softmax_x = exp_x / np.sum(exp_x)\n",
        "    return softmax_x\n",
        "\n",
        "def scale(x):\n",
        "    x = softmax(x)\n",
        "    x = x / np.max(x)\n",
        "    return x\n",
        "\n",
        "for i in range(y_hat.shape[0]):\n",
        "    plt.figure()\n",
        "    plt.plot(y[i, :-1])\n",
        "    plt.plot(scale(y_hat[i, :-1]))\n",
        ""
      ],
      "metadata": {
        "trusted": true,
        "id": "KHdvWuHu2qq6"
      },
      "execution_count": null,
      "outputs": []
    },
    {
      "cell_type": "code",
      "source": [
        "!rm -fr r_trader"
      ],
      "metadata": {
        "trusted": true,
        "id": "JyUehxbY2qq7"
      },
      "execution_count": null,
      "outputs": []
    },
    {
      "cell_type": "code",
      "source": [],
      "metadata": {
        "trusted": true,
        "id": "zRcYnFvy2qq7"
      },
      "execution_count": null,
      "outputs": []
    }
  ]
}