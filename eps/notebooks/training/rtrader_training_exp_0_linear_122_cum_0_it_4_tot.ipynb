{
  "metadata": {
    "kernelspec": {
      "display_name": "Python 3",
      "name": "python3"
    },
    "language_info": {
      "name": "python",
      "version": "3.10.13",
      "mimetype": "text/x-python",
      "codemirror_mode": {
        "name": "ipython",
        "version": 3
      },
      "pygments_lexer": "ipython3",
      "nbconvert_exporter": "python",
      "file_extension": ".py"
    },
    "kaggle": {
      "accelerator": "none",
      "dataSources": [
        {
          "sourceId": 9761223,
          "sourceType": "datasetVersion",
          "datasetId": 5977490
        },
        {
          "sourceId": 9761629,
          "sourceType": "datasetVersion",
          "datasetId": 5977787
        },
        {
          "sourceId": 9761643,
          "sourceType": "datasetVersion",
          "datasetId": 5977800
        },
        {
          "sourceId": 9761649,
          "sourceType": "datasetVersion",
          "datasetId": 5977805
        }
      ],
      "dockerImageVersionId": 30673,
      "isInternetEnabled": true,
      "language": "python",
      "sourceType": "notebook",
      "isGpuEnabled": false
    },
    "colab": {
      "provenance": [],
      "gpuType": "T4"
    },
    "accelerator": "GPU"
  },
  "nbformat_minor": 0,
  "nbformat": 4,
  "cells": [
    {
      "cell_type": "code",
      "source": [
        "!rm -fr r_trader out\n",
        "!mkdir out input\n",
        "!git clone https://github.com/abreham-atlaw/r_trader\n",
        "!cd r_trader &&  git checkout deep-reinforcement.training-experiment-linear\n",
        "!pip install cattrs positional-encodings==6.0.1 dropbox pymongo==4.3.3 dependency-injector==4.41.0"
      ],
      "metadata": {
        "_uuid": "8f2839f25d086af736a60e9eeb907d3b93b6e0e5",
        "_cell_guid": "b1076dfc-b9ad-4769-8c92-a6c4dae69d19",
        "execution": {
          "iopub.status.busy": "2024-10-31T08:18:41.374143Z",
          "iopub.execute_input": "2024-10-31T08:18:41.374537Z",
          "iopub.status.idle": "2024-10-31T08:19:02.191730Z",
          "shell.execute_reply.started": "2024-10-31T08:18:41.374505Z",
          "shell.execute_reply": "2024-10-31T08:19:02.190357Z"
        },
        "trusted": true,
        "id": "0GhgUstQ2o5h",
        "outputId": "b0da7d96-e2a2-4647-fe43-017b81c0af2d",
        "colab": {
          "base_uri": "https://localhost:8080/"
        }
      },
      "execution_count": 1,
      "outputs": [
        {
          "output_type": "stream",
          "name": "stdout",
          "text": [
            "Cloning into 'r_trader'...\n",
            "remote: Enumerating objects: 12948, done.\u001b[K\n",
            "remote: Counting objects: 100% (3862/3862), done.\u001b[K\n",
            "remote: Compressing objects: 100% (1078/1078), done.\u001b[K\n",
            "remote: Total 12948 (delta 2838), reused 3784 (delta 2760), pack-reused 9086 (from 1)\u001b[K\n",
            "Receiving objects: 100% (12948/12948), 76.54 MiB | 23.25 MiB/s, done.\n",
            "Resolving deltas: 100% (9170/9170), done.\n",
            "Branch 'deep-reinforcement.training-experiment-linear' set up to track remote branch 'deep-reinforcement.training-experiment-linear' from 'origin'.\n",
            "Switched to a new branch 'deep-reinforcement.training-experiment-linear'\n",
            "Requirement already satisfied: cattrs in /usr/local/lib/python3.10/dist-packages (24.1.2)\n",
            "Requirement already satisfied: positional-encodings==6.0.1 in /usr/local/lib/python3.10/dist-packages (6.0.1)\n",
            "Requirement already satisfied: dropbox in /usr/local/lib/python3.10/dist-packages (12.0.2)\n",
            "Requirement already satisfied: pymongo==4.3.3 in /usr/local/lib/python3.10/dist-packages (4.3.3)\n",
            "Requirement already satisfied: dependency-injector==4.41.0 in /usr/local/lib/python3.10/dist-packages (4.41.0)\n",
            "Requirement already satisfied: numpy in /usr/local/lib/python3.10/dist-packages (from positional-encodings==6.0.1) (1.26.4)\n",
            "Requirement already satisfied: dnspython<3.0.0,>=1.16.0 in /usr/local/lib/python3.10/dist-packages (from pymongo==4.3.3) (2.7.0)\n",
            "Requirement already satisfied: six<=1.16.0,>=1.7.0 in /usr/local/lib/python3.10/dist-packages (from dependency-injector==4.41.0) (1.16.0)\n",
            "Requirement already satisfied: attrs>=23.1.0 in /usr/local/lib/python3.10/dist-packages (from cattrs) (24.2.0)\n",
            "Requirement already satisfied: exceptiongroup>=1.1.1 in /usr/local/lib/python3.10/dist-packages (from cattrs) (1.2.2)\n",
            "Requirement already satisfied: typing-extensions!=4.6.3,>=4.1.0 in /usr/local/lib/python3.10/dist-packages (from cattrs) (4.12.2)\n",
            "Requirement already satisfied: requests>=2.16.2 in /usr/local/lib/python3.10/dist-packages (from dropbox) (2.32.3)\n",
            "Requirement already satisfied: stone<3.3.3,>=2 in /usr/local/lib/python3.10/dist-packages (from dropbox) (3.3.1)\n",
            "Requirement already satisfied: charset-normalizer<4,>=2 in /usr/local/lib/python3.10/dist-packages (from requests>=2.16.2->dropbox) (3.4.0)\n",
            "Requirement already satisfied: idna<4,>=2.5 in /usr/local/lib/python3.10/dist-packages (from requests>=2.16.2->dropbox) (3.10)\n",
            "Requirement already satisfied: urllib3<3,>=1.21.1 in /usr/local/lib/python3.10/dist-packages (from requests>=2.16.2->dropbox) (2.2.3)\n",
            "Requirement already satisfied: certifi>=2017.4.17 in /usr/local/lib/python3.10/dist-packages (from requests>=2.16.2->dropbox) (2024.8.30)\n",
            "Requirement already satisfied: ply>=3.4 in /usr/local/lib/python3.10/dist-packages (from stone<3.3.3,>=2->dropbox) (3.11)\n"
          ]
        }
      ]
    },
    {
      "cell_type": "code",
      "source": [
        "import os\n",
        "KAGGLE_ENV = os.path.exists(\"/kaggle/working\")\n",
        "REPO_PATH = \"/kaggle/working/r_trader\" if KAGGLE_ENV else \"/content/r_trader\"\n",
        "\n",
        "print(f\"KAGGLE ENV: {KAGGLE_ENV}\")\n",
        "\n",
        "import sys\n",
        "sys.path.append(REPO_PATH)"
      ],
      "metadata": {
        "execution": {
          "iopub.status.busy": "2024-10-31T08:19:02.194330Z",
          "iopub.execute_input": "2024-10-31T08:19:02.194779Z",
          "iopub.status.idle": "2024-10-31T08:19:02.200069Z",
          "shell.execute_reply.started": "2024-10-31T08:19:02.194732Z",
          "shell.execute_reply": "2024-10-31T08:19:02.198919Z"
        },
        "trusted": true,
        "id": "7UHbhnUx2o5j",
        "outputId": "c3cf2cb1-de04-4cfe-a763-8d5b107f037d",
        "colab": {
          "base_uri": "https://localhost:8080/"
        }
      },
      "execution_count": 2,
      "outputs": [
        {
          "output_type": "stream",
          "name": "stdout",
          "text": [
            "KAGGLE ENV: False\n"
          ]
        }
      ]
    },
    {
      "cell_type": "code",
      "source": [
        "import numpy as np\n",
        "import torch\n",
        "import torch.nn as nn\n",
        "from torch.utils.data import DataLoader\n",
        "from torch.optim import Adam, SGD, Adagrad\n",
        "import matplotlib.pyplot as plt\n",
        "\n",
        "import os\n",
        "import signal\n",
        "\n",
        "from core.utils.research.data.load.dataset import BaseDataset\n",
        "from core.utils.research.training.trainer import Trainer\n",
        "from core.utils.research.model.model.cnn.model import CNN\n",
        "from core.utils.research.model.model.linear.model import LinearModel\n",
        "from lib.utils.torch_utils.model_handler import ModelHandler\n",
        "from core.utils.research.training.callbacks.checkpoint_callback import CheckpointCallback, StoreCheckpointCallback\n",
        "from core.utils.research.training.data.repositories.checkpoint_repository import CheckpointRepository\n",
        "from lib.utils.file_storage import PCloudClient\n",
        "from core.utils.research.training.data.state import TrainingState\n",
        "from core import Config\n",
        "from core.utils.research.training.callbacks.metric_callback import MetricCallback\n",
        "from core.utils.research.training.data.repositories.metric_repository import MetricRepository, MongoDBMetricRepository\n",
        "from core.utils.kaggle import FusedManager\n",
        "from core.di import init_di, ApplicationContainer\n",
        "from core.utils.research.training.data.metric import MetricsContainer\n",
        "from core.utils.research.model.layers import Indicators\n",
        "from core.di import ServiceProvider\n",
        "from core.utils.research.losses import ProximalMaskedLoss\n",
        "from core.utils.kaggle.data_repository import KaggleDataRepository"
      ],
      "metadata": {
        "execution": {
          "iopub.status.busy": "2024-10-31T08:19:02.201294Z",
          "iopub.execute_input": "2024-10-31T08:19:02.201561Z",
          "iopub.status.idle": "2024-10-31T08:19:05.391481Z",
          "shell.execute_reply.started": "2024-10-31T08:19:02.201537Z",
          "shell.execute_reply": "2024-10-31T08:19:05.390438Z"
        },
        "trusted": true,
        "id": "01ZHB9Lz2o5k"
      },
      "execution_count": 4,
      "outputs": []
    },
    {
      "cell_type": "code",
      "source": [
        "def download_data(root, datasets, zip_filename, kernel_mode=True, checksums=None):\n",
        "    repository = KaggleDataRepository(\n",
        "        output_path=root,\n",
        "        zip_filename=zip_filename\n",
        "    )\n",
        "    repository.download_multiple(datasets, kernel=kernel_mode, checksums=checksums)\n",
        "    os.system(f\"unzip -d root/\")"
      ],
      "metadata": {
        "execution": {
          "iopub.status.busy": "2024-10-31T08:19:05.393644Z",
          "iopub.execute_input": "2024-10-31T08:19:05.394158Z",
          "iopub.status.idle": "2024-10-31T08:19:05.400089Z",
          "shell.execute_reply.started": "2024-10-31T08:19:05.394122Z",
          "shell.execute_reply": "2024-10-31T08:19:05.398811Z"
        },
        "trusted": true,
        "id": "2grSeYDX2o5m"
      },
      "execution_count": 5,
      "outputs": []
    },
    {
      "cell_type": "code",
      "source": [
        "DATA_ROOT = \"/kaggle/input\" if KAGGLE_ENV else \"/content/input\"\n",
        "\n",
        "DATASETS = [\n",
        "    f\"abrehamatlaw0/spinoza-ds-datapreparer-simsim-cum-0-it-2-{i}\"\n",
        "    for i in range(0,4)\n",
        "]\n",
        "CHECKSUMS = None\n",
        "KERNEL_MODE = False\n",
        "ZIP_FILENAME = \"out.zip\"\n",
        "if not KAGGLE_ENV:\n",
        "    download_data(DATA_ROOT, DATASETS, ZIP_FILENAME, kernel_mode=KERNEL_MODE, checksums=CHECKSUMS)\n",
        "\n",
        "\n",
        "CONTAINERS = [os.path.join(DATA_ROOT, container) for container in os.listdir(DATA_ROOT)]\n",
        "DATA_PATHES, TEST_DATA_PATHES = [\n",
        "    [\n",
        "        os.path.join(container, \"out\", type_)\n",
        "        for container in CONTAINERS\n",
        "    ]\n",
        "    for type_ in [\"train\", \"test\"]\n",
        "]\n",
        "\n",
        "NOTEBOOK_ID = \"abrehamalemu/rtrader-training-exp-0-linear-122-cum-0-it-4-tot\"\n",
        "MODEL_ID = NOTEBOOK_ID.replace(\"/\", \"-\")\n",
        "\n",
        "NUM_FILES = None\n",
        "DATA_CACHE_SIZE = 2\n",
        "DATALOADER_WORKERS = 4\n",
        "\n",
        "VOCAB_SIZE = 431\n",
        "DROPOUT = 0.3\n",
        "LAYER_SIZES = [4096 for _ in range(8)] + [VOCAB_SIZE + 1]\n",
        "HIDDEN_ACTIVATION = nn.LeakyReLU()\n",
        "INIT_FUNCTION = None\n",
        "NORM = [True] + [False for _ in LAYER_SIZES[1:]]\n",
        "BLOCK_SIZE = 1148\n",
        "LR = 1e-5\n",
        "\n",
        "LOSS_P = 1\n",
        "\n",
        "BATCH_SIZE = 64\n",
        "EPOCHS = 100\n",
        "TIMEOUT = int(10*60*60)\n",
        "\n",
        "DTYPE = torch.float32\n",
        "NP_DTYPE = np.float32\n",
        "\n",
        "MODEL_URL = None\n",
        "SAVE_PATH = os.path.abspath(os.path.join(\"./out\", f\"{MODEL_ID}.zip\"))\n",
        "\n",
        "METRIC_REPOSITORY = MongoDBMetricRepository(\n",
        "    Config.MONGODB_URL,\n",
        "    MODEL_ID\n",
        ")\n",
        "\n",
        "CALLBACKS = [\n",
        "    StoreCheckpointCallback(path=SAVE_PATH),\n",
        "    MetricCallback(\n",
        "       METRIC_REPOSITORY\n",
        "    )\n",
        "]"
      ],
      "metadata": {
        "execution": {
          "iopub.status.busy": "2024-10-31T08:19:05.401320Z",
          "iopub.execute_input": "2024-10-31T08:19:05.401707Z",
          "iopub.status.idle": "2024-10-31T08:19:05.492348Z",
          "shell.execute_reply.started": "2024-10-31T08:19:05.401672Z",
          "shell.execute_reply": "2024-10-31T08:19:05.491317Z"
        },
        "trusted": true,
        "id": "DprXgnKO2o5m",
        "outputId": "d896930f-c13d-46c6-9776-4d748318474e",
        "colab": {
          "base_uri": "https://localhost:8080/"
        }
      },
      "execution_count": null,
      "outputs": [
        {
          "output_type": "stream",
          "name": "stdout",
          "text": [
            "\u001b[94m PID:4280 [2024-10-31 09:29:39.353103]  Downloading abrehamatlaw0/spinoza-ds-datapreparer-simsim-cum-0-it-2-0 \u001b[0m\n",
            "\u001b[94m PID:4280 [2024-10-31 09:29:39.354664]  Downloading to /content/input/abrehamatlaw0-spinoza-ds-datapreparer-simsim-cum-0-it-2-0 \u001b[0m\n",
            "\u001b[94m PID:4280 [2024-10-31 09:29:39.354787]  Checking pre-downloaded for /content/input/abrehamatlaw0-spinoza-ds-datapreparer-simsim-cum-0-it-2-0 \u001b[0m\n",
            "\u001b[94m PID:4280 [2024-10-31 09:29:39.357623]  Cleaning /content/input/abrehamatlaw0-spinoza-ds-datapreparer-simsim-cum-0-it-2-0 \u001b[0m\n",
            "\u001b[94m PID:4280 [2024-10-31 09:29:39.876672]  Using Account: bemnetatlaw \u001b[0m\n",
            "Dataset URL: https://www.kaggle.com/datasets/abrehamatlaw0/spinoza-ds-datapreparer-simsim-cum-0-it-2-0\n",
            "\u001b[94m PID:4280 [2024-10-31 09:29:42.197351]  Unzipping Data... \u001b[0m\n",
            "\u001b[94m PID:4280 [2024-10-31 09:31:07.177755]  Downloaded False to /content/input/abrehamatlaw0-spinoza-ds-datapreparer-simsim-cum-0-it-2-0 \u001b[0m\n",
            "\u001b[94m PID:4280 [2024-10-31 09:31:07.177994]  Generating checksum for '/content/input/abrehamatlaw0-spinoza-ds-datapreparer-simsim-cum-0-it-2-0' \u001b[0m\n",
            "\u001b[94m PID:4280 [2024-10-31 09:31:07.224518]  Checksum: e5b36d61f56b29147d149ce0828c9964ad01a46c6e936506eef1fcf0eeb85f81 \u001b[0m\n",
            "\u001b[94m PID:4280 [2024-10-31 09:31:07.224673]  Downloading abrehamatlaw0/spinoza-ds-datapreparer-simsim-cum-0-it-2-1 \u001b[0m\n",
            "\u001b[94m PID:4280 [2024-10-31 09:31:07.224772]  Downloading to /content/input/abrehamatlaw0-spinoza-ds-datapreparer-simsim-cum-0-it-2-1 \u001b[0m\n",
            "\u001b[94m PID:4280 [2024-10-31 09:31:07.224842]  Checking pre-downloaded for /content/input/abrehamatlaw0-spinoza-ds-datapreparer-simsim-cum-0-it-2-1 \u001b[0m\n",
            "\u001b[94m PID:4280 [2024-10-31 09:31:07.229876]  Cleaning /content/input/abrehamatlaw0-spinoza-ds-datapreparer-simsim-cum-0-it-2-1 \u001b[0m\n",
            "Dataset URL: https://www.kaggle.com/datasets/abrehamatlaw0/spinoza-ds-datapreparer-simsim-cum-0-it-2-1\n",
            "\u001b[94m PID:4280 [2024-10-31 09:31:09.071213]  Unzipping Data... \u001b[0m\n",
            "\u001b[94m PID:4280 [2024-10-31 09:32:36.611654]  Downloaded False to /content/input/abrehamatlaw0-spinoza-ds-datapreparer-simsim-cum-0-it-2-1 \u001b[0m\n",
            "\u001b[94m PID:4280 [2024-10-31 09:32:36.611881]  Generating checksum for '/content/input/abrehamatlaw0-spinoza-ds-datapreparer-simsim-cum-0-it-2-1' \u001b[0m\n",
            "\u001b[94m PID:4280 [2024-10-31 09:32:36.692292]  Checksum: dc5d7c2c08ad19338f975eaa80cea4547bdef49feccd1671d33588d281eb29a4 \u001b[0m\n",
            "\u001b[94m PID:4280 [2024-10-31 09:32:36.694423]  Downloading abrehamatlaw0/spinoza-ds-datapreparer-simsim-cum-0-it-2-2 \u001b[0m\n",
            "\u001b[94m PID:4280 [2024-10-31 09:32:36.696226]  Downloading to /content/input/abrehamatlaw0-spinoza-ds-datapreparer-simsim-cum-0-it-2-2 \u001b[0m\n",
            "\u001b[94m PID:4280 [2024-10-31 09:32:36.697931]  Checking pre-downloaded for /content/input/abrehamatlaw0-spinoza-ds-datapreparer-simsim-cum-0-it-2-2 \u001b[0m\n",
            "\u001b[94m PID:4280 [2024-10-31 09:32:36.698053]  Cleaning /content/input/abrehamatlaw0-spinoza-ds-datapreparer-simsim-cum-0-it-2-2 \u001b[0m\n",
            "Dataset URL: https://www.kaggle.com/datasets/abrehamatlaw0/spinoza-ds-datapreparer-simsim-cum-0-it-2-2\n",
            "\u001b[94m PID:4280 [2024-10-31 09:32:39.504199]  Unzipping Data... \u001b[0m\n"
          ]
        }
      ]
    },
    {
      "cell_type": "code",
      "source": [
        "repository = CheckpointRepository(\n",
        "    ServiceProvider.provide_file_storage()\n",
        ")"
      ],
      "metadata": {
        "execution": {
          "iopub.status.busy": "2024-10-31T08:19:05.493779Z",
          "iopub.execute_input": "2024-10-31T08:19:05.494518Z",
          "iopub.status.idle": "2024-10-31T08:19:05.518486Z",
          "shell.execute_reply.started": "2024-10-31T08:19:05.494481Z",
          "shell.execute_reply": "2024-10-31T08:19:05.517476Z"
        },
        "trusted": true,
        "id": "8hj1DyWX2o5n"
      },
      "execution_count": null,
      "outputs": []
    },
    {
      "cell_type": "code",
      "source": [
        "state_model = repository.get(MODEL_ID)\n",
        "# state_model = None\n",
        "if state_model is None:\n",
        "    print(\"[+]Creating a new model...\")\n",
        "\n",
        "    model = LinearModel(\n",
        "        dropout_rate=DROPOUT,\n",
        "        layer_sizes=LAYER_SIZES,\n",
        "        hidden_activation=HIDDEN_ACTIVATION,\n",
        "        init_fn=INIT_FUNCTION,\n",
        "        norm=NORM,\n",
        "        input_size=BLOCK_SIZE\n",
        "    )\n",
        "\n",
        "else:\n",
        "    print(\"[+]Using loaded model...\")\n",
        "    state, model = state_model\n",
        "state = TrainingState(\n",
        "    epoch=0,\n",
        "    batch=0,\n",
        "    id=MODEL_ID\n",
        ")"
      ],
      "metadata": {
        "execution": {
          "iopub.status.busy": "2024-10-31T08:19:05.519643Z",
          "iopub.execute_input": "2024-10-31T08:19:05.519920Z",
          "iopub.status.idle": "2024-10-31T08:19:08.189258Z",
          "shell.execute_reply.started": "2024-10-31T08:19:05.519897Z",
          "shell.execute_reply": "2024-10-31T08:19:08.188247Z"
        },
        "trusted": true,
        "id": "JMTdRyCh2o5n"
      },
      "execution_count": null,
      "outputs": []
    },
    {
      "cell_type": "code",
      "source": [
        "dataset = BaseDataset(\n",
        "    root_dirs=DATA_PATHES,\n",
        "    out_dtypes=NP_DTYPE,\n",
        "    num_files=NUM_FILES\n",
        ")\n",
        "dataloader = DataLoader(dataset, batch_size=BATCH_SIZE, num_workers=DATALOADER_WORKERS, pin_memory=True)"
      ],
      "metadata": {
        "execution": {
          "iopub.status.busy": "2024-10-31T08:19:08.190783Z",
          "iopub.execute_input": "2024-10-31T08:19:08.191108Z",
          "iopub.status.idle": "2024-10-31T08:19:08.879088Z",
          "shell.execute_reply.started": "2024-10-31T08:19:08.191066Z",
          "shell.execute_reply": "2024-10-31T08:19:08.878223Z"
        },
        "trusted": true,
        "id": "p2dpuG_S2o5o"
      },
      "execution_count": null,
      "outputs": []
    },
    {
      "cell_type": "code",
      "source": [
        "test_dataset = BaseDataset(\n",
        "    root_dirs=TEST_DATA_PATHES,\n",
        "    out_dtypes=NP_DTYPE,\n",
        "    num_files=NUM_FILES\n",
        ")\n",
        "test_dataloader = DataLoader(test_dataset, batch_size=BATCH_SIZE, num_workers=DATALOADER_WORKERS, pin_memory=True)"
      ],
      "metadata": {
        "execution": {
          "iopub.status.busy": "2024-10-31T08:19:08.880239Z",
          "iopub.execute_input": "2024-10-31T08:19:08.880547Z",
          "iopub.status.idle": "2024-10-31T08:19:09.663118Z",
          "shell.execute_reply.started": "2024-10-31T08:19:08.880522Z",
          "shell.execute_reply": "2024-10-31T08:19:09.662291Z"
        },
        "trusted": true,
        "id": "m_l3-LDc2o5p"
      },
      "execution_count": null,
      "outputs": []
    },
    {
      "cell_type": "code",
      "source": [
        "trainer = Trainer(model, callbacks=CALLBACKS)"
      ],
      "metadata": {
        "execution": {
          "iopub.status.busy": "2024-10-31T08:19:09.665933Z",
          "iopub.execute_input": "2024-10-31T08:19:09.666257Z",
          "iopub.status.idle": "2024-10-31T08:19:09.695487Z",
          "shell.execute_reply.started": "2024-10-31T08:19:09.666231Z",
          "shell.execute_reply": "2024-10-31T08:19:09.694478Z"
        },
        "trusted": true,
        "id": "cRuuWK642o5q"
      },
      "execution_count": null,
      "outputs": []
    },
    {
      "cell_type": "code",
      "source": [
        "trainer.cls_loss_function = ProximalMaskedLoss(\n",
        "    n=len(Config.AGENT_STATE_CHANGE_DELTA_STATIC_BOUND) + 1 ,\n",
        "    p=LOSS_P,\n",
        "    softmax=True,\n",
        "    device=trainer.device,\n",
        "\n",
        ")\n",
        "trainer.reg_loss_function = nn.MSELoss()\n",
        "trainer.optimizer = Adam(trainer.model.parameters(), lr=LR)"
      ],
      "metadata": {
        "execution": {
          "iopub.status.busy": "2024-10-31T08:19:09.696989Z",
          "iopub.execute_input": "2024-10-31T08:19:09.697590Z",
          "iopub.status.idle": "2024-10-31T08:19:11.960708Z",
          "shell.execute_reply.started": "2024-10-31T08:19:09.697562Z",
          "shell.execute_reply": "2024-10-31T08:19:11.959581Z"
        },
        "trusted": true,
        "id": "mmMbHQuJ2o5r"
      },
      "execution_count": null,
      "outputs": []
    },
    {
      "cell_type": "code",
      "source": [
        "class TimeoutException(Exception):\n",
        "    pass\n",
        "\n",
        "def handle_timeout(*args, **kwargs):\n",
        "    raise TimeoutException()\n",
        "\n",
        "signal.signal(signal.SIGALRM, handle_timeout)\n",
        "signal.alarm(TIMEOUT)"
      ],
      "metadata": {
        "execution": {
          "iopub.status.busy": "2024-10-31T08:19:11.962124Z",
          "iopub.execute_input": "2024-10-31T08:19:11.962755Z",
          "iopub.status.idle": "2024-10-31T08:19:11.971461Z",
          "shell.execute_reply.started": "2024-10-31T08:19:11.962716Z",
          "shell.execute_reply": "2024-10-31T08:19:11.970370Z"
        },
        "trusted": true,
        "id": "JnXBOxY92o5r"
      },
      "execution_count": null,
      "outputs": []
    },
    {
      "cell_type": "code",
      "source": [
        "try:\n",
        "    trainer.train(dataloader, val_dataloader=test_dataloader, epochs=EPOCHS, progress=True, progress_interval=100, state=state, cls_loss_only=False)\n",
        "except TimeoutException:\n",
        "    pass"
      ],
      "metadata": {
        "execution": {
          "iopub.status.busy": "2024-10-31T08:19:11.972797Z",
          "iopub.execute_input": "2024-10-31T08:19:11.973215Z"
        },
        "trusted": true,
        "id": "v2ak2Ef-2o5s"
      },
      "execution_count": null,
      "outputs": []
    },
    {
      "cell_type": "code",
      "source": [
        "ModelHandler.save(model, SAVE_PATH)"
      ],
      "metadata": {
        "trusted": true,
        "id": "w-le6rwB2o5s"
      },
      "execution_count": null,
      "outputs": []
    },
    {
      "cell_type": "code",
      "source": [
        "repository.update(trainer.state, trainer.model)"
      ],
      "metadata": {
        "trusted": true,
        "id": "E-Uz8-sf2o5t"
      },
      "execution_count": null,
      "outputs": []
    },
    {
      "cell_type": "code",
      "source": [
        "metrics = MetricsContainer()\n",
        "for metric in METRIC_REPOSITORY.get_all():\n",
        "    metrics.add_metric(metric)\n",
        "\n",
        "for i in range(3):\n",
        "    train_losses = [metric.value[i] for metric in metrics.filter_metrics(source=0)]\n",
        "    val_losses = [metric.value[i] for metric in metrics.filter_metrics(source=1)]\n",
        "    plt.figure()\n",
        "    plt.plot(train_losses)\n",
        "    plt.plot(val_losses)\n",
        "    plt.show()"
      ],
      "metadata": {
        "trusted": true,
        "id": "bl7jG2Yv2o5t"
      },
      "execution_count": null,
      "outputs": []
    },
    {
      "cell_type": "code",
      "source": [
        "for X, y in test_dataloader:\n",
        "    break\n",
        "y_hat = model(X.to(trainer.device)).detach().cpu().numpy()\n",
        "\n",
        "import matplotlib.pyplot as plt\n",
        "def softmax(x):\n",
        "    exp_x = np.exp(x - np.max(x))\n",
        "    softmax_x = exp_x / np.sum(exp_x)\n",
        "    return softmax_x\n",
        "\n",
        "def scale(x):\n",
        "    x = softmax(x)\n",
        "    x = x / np.max(x)\n",
        "    return x\n",
        "\n",
        "for i in range(y_hat.shape[0]):\n",
        "    plt.figure()\n",
        "    plt.plot(y[i, :-1])\n",
        "    plt.plot(scale(y_hat[i, :-1]))\n",
        ""
      ],
      "metadata": {
        "trusted": true,
        "id": "NIPs_ehQ2o5t"
      },
      "execution_count": null,
      "outputs": []
    },
    {
      "cell_type": "code",
      "source": [
        "!rm -fr r_trader"
      ],
      "metadata": {
        "trusted": true,
        "id": "m2ozOHvj2o5u"
      },
      "execution_count": null,
      "outputs": []
    },
    {
      "cell_type": "code",
      "source": [],
      "metadata": {
        "trusted": true,
        "id": "pzO6ls5N2o5u"
      },
      "execution_count": null,
      "outputs": []
    }
  ]
}