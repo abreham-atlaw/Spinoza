{
  "cells": [
    {
      "cell_type": "code",
      "execution_count": 1,
      "metadata": {
        "_cell_guid": "b1076dfc-b9ad-4769-8c92-a6c4dae69d19",
        "_uuid": "8f2839f25d086af736a60e9eeb907d3b93b6e0e5",
        "colab": {
          "base_uri": "https://localhost:8080/"
        },
        "id": "CMnDGVFyK-lJ",
        "outputId": "0ac224bc-951f-4853-ea2e-33c5a1d8a2b4"
      },
      "outputs": [
        {
          "output_type": "stream",
          "name": "stdout",
          "text": [
            "mkdir: cannot create directory ‘input’: File exists\n",
            "Cloning into 'r_trader'...\n",
            "remote: Enumerating objects: 17124, done.\u001b[K\n",
            "remote: Counting objects: 100% (98/98), done.\u001b[K\n",
            "remote: Compressing objects: 100% (44/44), done.\u001b[K\n",
            "remote: Total 17124 (delta 66), reused 69 (delta 52), pack-reused 17026 (from 3)\u001b[K\n",
            "Receiving objects: 100% (17124/17124), 77.92 MiB | 14.39 MiB/s, done.\n",
            "Resolving deltas: 100% (12282/12282), done.\n",
            "Branch 'deep-reinforcement.training-experiment-cnn.tmp' set up to track remote branch 'deep-reinforcement.training-experiment-cnn.tmp' from 'origin'.\n",
            "Switched to a new branch 'deep-reinforcement.training-experiment-cnn.tmp'\n",
            "Requirement already satisfied: cattrs in /usr/local/lib/python3.11/dist-packages (24.1.2)\n",
            "Requirement already satisfied: positional-encodings==6.0.1 in /usr/local/lib/python3.11/dist-packages (6.0.1)\n",
            "Requirement already satisfied: dropbox in /usr/local/lib/python3.11/dist-packages (12.0.2)\n",
            "Requirement already satisfied: pymongo==4.3.3 in /usr/local/lib/python3.11/dist-packages (4.3.3)\n",
            "Requirement already satisfied: dependency-injector==4.41.0 in /usr/local/lib/python3.11/dist-packages (4.41.0)\n",
            "Requirement already satisfied: numpy in /usr/local/lib/python3.11/dist-packages (from positional-encodings==6.0.1) (1.26.4)\n",
            "Requirement already satisfied: dnspython<3.0.0,>=1.16.0 in /usr/local/lib/python3.11/dist-packages (from pymongo==4.3.3) (2.7.0)\n",
            "Requirement already satisfied: six<=1.16.0,>=1.7.0 in /usr/local/lib/python3.11/dist-packages (from dependency-injector==4.41.0) (1.16.0)\n",
            "Requirement already satisfied: attrs>=23.1.0 in /usr/local/lib/python3.11/dist-packages (from cattrs) (24.3.0)\n",
            "Requirement already satisfied: requests>=2.16.2 in /usr/local/lib/python3.11/dist-packages (from dropbox) (2.32.3)\n",
            "Requirement already satisfied: stone<3.3.3,>=2 in /usr/local/lib/python3.11/dist-packages (from dropbox) (3.3.1)\n",
            "Requirement already satisfied: charset-normalizer<4,>=2 in /usr/local/lib/python3.11/dist-packages (from requests>=2.16.2->dropbox) (3.4.1)\n",
            "Requirement already satisfied: idna<4,>=2.5 in /usr/local/lib/python3.11/dist-packages (from requests>=2.16.2->dropbox) (3.10)\n",
            "Requirement already satisfied: urllib3<3,>=1.21.1 in /usr/local/lib/python3.11/dist-packages (from requests>=2.16.2->dropbox) (2.3.0)\n",
            "Requirement already satisfied: certifi>=2017.4.17 in /usr/local/lib/python3.11/dist-packages (from requests>=2.16.2->dropbox) (2024.12.14)\n",
            "Requirement already satisfied: ply>=3.4 in /usr/local/lib/python3.11/dist-packages (from stone<3.3.3,>=2->dropbox) (3.11)\n"
          ]
        }
      ],
      "source": [
        "!rm -fr r_trader out\n",
        "!mkdir out input\n",
        "!git clone https://github.com/abreham-atlaw/r_trader\n",
        "!cd r_trader &&  git checkout deep-reinforcement.training-experiment-cnn.tmp\n",
        "!pip install cattrs positional-encodings==6.0.1 dropbox pymongo==4.3.3 dependency-injector==4.41.0"
      ]
    },
    {
      "cell_type": "code",
      "execution_count": 2,
      "metadata": {
        "colab": {
          "base_uri": "https://localhost:8080/"
        },
        "id": "SetxpdI2K-lN",
        "outputId": "c58a7c89-2894-4e4f-bbc3-713624452002"
      },
      "outputs": [
        {
          "output_type": "stream",
          "name": "stdout",
          "text": [
            "KAGGLE ENV: False\n"
          ]
        }
      ],
      "source": [
        "import os\n",
        "KAGGLE_ENV = os.path.exists(\"/kaggle/working\")\n",
        "REPO_PATH = \"/kaggle/working/r_trader\" if KAGGLE_ENV else \"/content/r_trader\"\n",
        "\n",
        "print(f\"KAGGLE ENV: {KAGGLE_ENV}\")\n",
        "\n",
        "import sys\n",
        "sys.path.append(REPO_PATH)"
      ]
    },
    {
      "cell_type": "code",
      "execution_count": 3,
      "metadata": {
        "colab": {
          "base_uri": "https://localhost:8080/"
        },
        "id": "kIDpPNaSK-lP",
        "outputId": "26622d51-e7f4-47cc-e0fb-40cce27c8975"
      },
      "outputs": [
        {
          "output_type": "stream",
          "name": "stdout",
          "text": [
            "\u001b[0m PID:12955 [2025-01-28 08:24:12.756257]  XLA is not installed. Training using TPU will not be possible. \u001b[93m \u001b[0m\n"
          ]
        }
      ],
      "source": [
        "import numpy as np\n",
        "import torch\n",
        "import torch.nn as nn\n",
        "from torch.utils.data import DataLoader\n",
        "from torch.optim import Adam, SGD, Adagrad\n",
        "import matplotlib.pyplot as plt\n",
        "\n",
        "import os\n",
        "import signal\n",
        "\n",
        "from core.utils.research.data.load.dataset import BaseDataset\n",
        "from core.utils.research.training.trainer import Trainer\n",
        "from core.utils.research.model.model.cnn.model import CNN\n",
        "from core.utils.research.model.model.linear.model import LinearModel\n",
        "from lib.utils.torch_utils.model_handler import ModelHandler\n",
        "from core.utils.research.training.callbacks.checkpoint_callback import CheckpointCallback, StoreCheckpointCallback\n",
        "from core.utils.research.training.data.repositories.checkpoint_repository import CheckpointRepository\n",
        "from lib.utils.file_storage import PCloudClient\n",
        "from core.utils.research.training.data.state import TrainingState\n",
        "from core import Config\n",
        "from core.utils.research.training.callbacks.metric_callback import MetricCallback\n",
        "from core.utils.research.training.data.repositories.metric_repository import MetricRepository, MongoDBMetricRepository\n",
        "from core.utils.kaggle import FusedManager\n",
        "from core.di import init_di, ApplicationContainer\n",
        "from core.utils.research.training.data.metric import MetricsContainer\n",
        "from core.utils.research.model.layers import Indicators\n",
        "from core.di import ServiceProvider\n",
        "from core.utils.kaggle.data_repository import KaggleDataRepository\n",
        "from core.utils.research.losses import ProximalMaskedLoss"
      ]
    },
    {
      "cell_type": "code",
      "execution_count": 4,
      "metadata": {
        "id": "zvBFwwe0K-lQ"
      },
      "outputs": [],
      "source": [
        "def download_data(root, datasets, zip_filename, kernel_mode=True, checksums=None):\n",
        "    repository = KaggleDataRepository(\n",
        "        output_path=root,\n",
        "        zip_filename=zip_filename\n",
        "    )\n",
        "    repository.download_multiple(datasets, kernel=kernel_mode, checksums=checksums)\n",
        "    os.system(f\"unzip -d root/\")"
      ]
    },
    {
      "cell_type": "code",
      "execution_count": 5,
      "metadata": {
        "colab": {
          "base_uri": "https://localhost:8080/"
        },
        "id": "2tWqyTaGK-lR",
        "outputId": "a06f4c99-58a9-4ed8-f75f-db97799f4766"
      },
      "outputs": [
        {
          "output_type": "stream",
          "name": "stdout",
          "text": [
            "\u001b[94m PID:12955 [2025-01-28 08:24:12.836403]  Downloading abrehamatlaw0/rtrader-datapreparer-simsim-cum-0-it-10-0-dataset \u001b[0m\n",
            "\u001b[94m PID:12955 [2025-01-28 08:24:12.838317]  Downloading to /content/input/abrehamatlaw0-rtrader-datapreparer-simsim-cum-0-it-10-0-dataset \u001b[0m\n",
            "\u001b[94m PID:12955 [2025-01-28 08:24:12.839994]  Checking pre-downloaded for /content/input/abrehamatlaw0-rtrader-datapreparer-simsim-cum-0-it-10-0-dataset \u001b[0m\n",
            "\u001b[94m PID:12955 [2025-01-28 08:24:12.841653]  Generating checksum for '/content/input/abrehamatlaw0-rtrader-datapreparer-simsim-cum-0-it-10-0-dataset' \u001b[0m\n"
          ]
        }
      ],
      "source": [
        "DATA_ROOT = \"/kaggle/input\" if KAGGLE_ENV else \"/content/input\"\n",
        "\n",
        "DATASETS = [\n",
        "    f\"abrehamatlaw0/rtrader-datapreparer-simsim-cum-0-it-10-0-dataset\"\n",
        "    # for i in range(0,4)\n",
        "]\n",
        "CHECKSUMS = [\n",
        "    '99f3a6b3b3c1482d91a7a8f146ff0787981aaafd51db24c6142e7f60b5a46483',\n",
        "]\n",
        "KERNEL_MODE = False\n",
        "ZIP_FILENAME = \"out.zip\"\n",
        "if not KAGGLE_ENV:\n",
        "    download_data(DATA_ROOT, DATASETS, ZIP_FILENAME, kernel_mode=KERNEL_MODE, checksums=CHECKSUMS)\n",
        "\n",
        "\n",
        "CONTAINERS = [os.path.join(DATA_ROOT, container) for container in os.listdir(DATA_ROOT)]\n",
        "DATA_PATHES, TEST_DATA_PATHES = [\n",
        "    [\n",
        "        os.path.join(container, \"out\", type_)\n",
        "        for container in CONTAINERS\n",
        "    ]\n",
        "    for type_ in [\"train\", \"test\"]\n",
        "]\n",
        "\n",
        "NOTEBOOK_ID = \"abrehamalemu/rtrader-training-exp-0-cnn-150-cum-0-it-10-tot\"\n",
        "MODEL_ID = NOTEBOOK_ID.replace(\"/\", \"-\")\n",
        "\n",
        "NUM_FILES = None\n",
        "DATA_CACHE_SIZE = 2\n",
        "DATALOADER_WORKERS = 4\n",
        "\n",
        "LR = 1e-4\n",
        "\n",
        "LOSS_P = 1\n",
        "\n",
        "BATCH_SIZE = 256\n",
        "EPOCHS = 100\n",
        "TIMEOUT = 10*60*60\n",
        "\n",
        "DTYPE = torch.float32\n",
        "NP_DTYPE = np.float32\n",
        "\n",
        "MODEL_URL = None\n",
        "SAVE_PATH = os.path.abspath(\"./out/model.zip\")\n",
        "STATE_SAVE_PATH = os.path.abspath(\"./out/model.zip\")\n",
        "\n",
        "METRIC_REPOSITORY = MongoDBMetricRepository(\n",
        "    Config.MONGODB_URL,\n",
        "    MODEL_ID\n",
        ")\n",
        "\n",
        "CALLBACKS = [\n",
        "    StoreCheckpointCallback(\n",
        "        path=os.path.dirname(SAVE_PATH),\n",
        "        interval=5,\n",
        "        fs=ServiceProvider.provide_file_storage(Config.MODEL_IN_PATH),\n",
        "        active=True\n",
        "    ),\n",
        "    MetricCallback(\n",
        "       METRIC_REPOSITORY\n",
        "    )\n",
        "]"
      ]
    },
    {
      "cell_type": "code",
      "execution_count": 6,
      "metadata": {
        "id": "AAPzrnlUK-lS"
      },
      "outputs": [],
      "source": [
        "repository = CheckpointRepository(\n",
        "    ServiceProvider.provide_file_storage()\n",
        ")"
      ]
    },
    {
      "cell_type": "code",
      "execution_count": 7,
      "metadata": {
        "id": "kbNrtcqTK-lS",
        "outputId": "8cfa990d-2315-4ba5-ba1f-583542af8224",
        "colab": {
          "base_uri": "https://localhost:8080/"
        }
      },
      "outputs": [
        {
          "output_type": "stream",
          "name": "stdout",
          "text": [
            "\u001b[94m PID:12955 [2025-01-28 08:24:15.959003]  Using Storage 0 for abrehamalemu-rtrader-training-exp-0-cnn-150-cum-0-it-10-tot.zip \u001b[0m\n",
            "[+]Using loaded model...\n"
          ]
        },
        {
          "output_type": "stream",
          "name": "stderr",
          "text": [
            "/content/r_trader/lib/utils/torch_utils/model_handler.py:145: FutureWarning: You are using `torch.load` with `weights_only=False` (the current default value), which uses the default pickle module implicitly. It is possible to construct malicious pickle data which will execute arbitrary code during unpickling (See https://github.com/pytorch/pytorch/blob/main/SECURITY.md#untrusted-models for more details). In a future release, the default value for `weights_only` will be flipped to `True`. This limits the functions that could be executed during unpickling. Arbitrary objects will no longer be allowed to be loaded via this mode unless they are explicitly allowlisted by the user via `torch.serialization.add_safe_globals`. We recommend you start setting `weights_only=True` for any use case where you don't have full control of the loaded file. Please open an issue on GitHub for any issues related to this experimental feature.\n",
            "  model.load_state_dict_lazy(torch.load(os.path.join(dirname, 'model_state.pth'), map_location=torch.device('cpu')))\n"
          ]
        }
      ],
      "source": [
        "state_model = repository.get(MODEL_ID)\n",
        "# state_model = None\n",
        "if state_model is None:\n",
        "    raise ValueError(f\"Can't Find Model: {MODEL_ID}\")\n",
        "\n",
        "else:\n",
        "    print(\"[+]Using loaded model...\")\n",
        "    state, model = state_model\n",
        "state = TrainingState(\n",
        "    epoch=0,\n",
        "    batch=0,\n",
        "    id=MODEL_ID\n",
        ")"
      ]
    },
    {
      "cell_type": "code",
      "execution_count": 8,
      "metadata": {
        "id": "-bacoyFoK-lT",
        "outputId": "7a3d802b-d957-44c4-d8a3-c7be11366e80",
        "colab": {
          "base_uri": "https://localhost:8080/"
        }
      },
      "outputs": [
        {
          "output_type": "stream",
          "name": "stderr",
          "text": [
            "/usr/local/lib/python3.11/dist-packages/torch/utils/data/dataloader.py:617: UserWarning: This DataLoader will create 4 worker processes in total. Our suggested max number of worker in current system is 2, which is smaller than what this DataLoader is going to create. Please be aware that excessive worker creation might get DataLoader running slow or even freeze, lower the worker number to avoid potential slowness/freeze if necessary.\n",
            "  warnings.warn(\n"
          ]
        }
      ],
      "source": [
        "dataset = BaseDataset(\n",
        "    root_dirs=DATA_PATHES,\n",
        "    out_dtypes=NP_DTYPE,\n",
        "    num_files=NUM_FILES\n",
        ")\n",
        "dataloader = DataLoader(dataset, batch_size=BATCH_SIZE, num_workers=DATALOADER_WORKERS, pin_memory=True)"
      ]
    },
    {
      "cell_type": "code",
      "execution_count": 9,
      "metadata": {
        "id": "8yjCOwU7K-lV"
      },
      "outputs": [],
      "source": [
        "test_dataset = BaseDataset(\n",
        "    root_dirs=TEST_DATA_PATHES,\n",
        "    out_dtypes=NP_DTYPE,\n",
        "    num_files=NUM_FILES\n",
        ")\n",
        "test_dataloader = DataLoader(test_dataset, batch_size=BATCH_SIZE, num_workers=DATALOADER_WORKERS, pin_memory=True)"
      ]
    },
    {
      "cell_type": "code",
      "execution_count": 10,
      "metadata": {
        "id": "jgsW_nQ1K-lW",
        "outputId": "adad7479-9315-422f-a00c-e739694cc1c4",
        "colab": {
          "base_uri": "https://localhost:8080/"
        }
      },
      "outputs": [
        {
          "output_type": "stream",
          "name": "stdout",
          "text": [
            "\u001b[94m PID:12955 [2025-01-28 08:24:27.020256]  Using device: 1 \u001b[0m\n"
          ]
        }
      ],
      "source": [
        "trainer = Trainer(model, callbacks=CALLBACKS)"
      ]
    },
    {
      "cell_type": "code",
      "execution_count": 11,
      "metadata": {
        "id": "YdobrgSLK-lX"
      },
      "outputs": [],
      "source": [
        "trainer.cls_loss_function = ProximalMaskedLoss(\n",
        "    n=len(Config.AGENT_STATE_CHANGE_DELTA_STATIC_BOUND) + 1 ,\n",
        "    p=LOSS_P,\n",
        "    softmax=True,\n",
        "    device=trainer.device,\n",
        "\n",
        ")\n",
        "trainer.reg_loss_function = nn.MSELoss()\n",
        "trainer.optimizer = Adam(trainer.model.parameters(), lr=LR)"
      ]
    },
    {
      "cell_type": "code",
      "execution_count": 12,
      "metadata": {
        "id": "qMtSify1K-lZ",
        "outputId": "e85e8009-c498-4ce6-d607-b1169440507f",
        "colab": {
          "base_uri": "https://localhost:8080/"
        }
      },
      "outputs": [
        {
          "output_type": "execute_result",
          "data": {
            "text/plain": [
              "0"
            ]
          },
          "metadata": {},
          "execution_count": 12
        }
      ],
      "source": [
        "class TimeoutException(Exception):\n",
        "    pass\n",
        "\n",
        "def handle_timeout(*args, **kwargs):\n",
        "    raise TimeoutException()\n",
        "\n",
        "signal.signal(signal.SIGALRM, handle_timeout)\n",
        "signal.alarm(TIMEOUT)"
      ]
    },
    {
      "cell_type": "code",
      "execution_count": null,
      "metadata": {
        "id": "poLTWAztK-lZ",
        "outputId": "3b8d2880-fe80-4981-ba59-2b4981aa666a",
        "colab": {
          "base_uri": "https://localhost:8080/"
        }
      },
      "outputs": [
        {
          "output_type": "stream",
          "name": "stdout",
          "text": [
            "Model Summary\n",
            "Layer Name\t\t\t\t\t\t\tNumber of Parameters\n",
            "====================================================================================================\n",
            "layers.0.weight\t\t\t3840\n",
            "layers.0.bias\t\t\t128\n",
            "layers.1.weight\t\t\t49152\n",
            "layers.1.bias\t\t\t128\n",
            "layers.2.weight\t\t\t49152\n",
            "layers.2.bias\t\t\t128\n",
            "layers.3.weight\t\t\t49152\n",
            "layers.3.bias\t\t\t128\n",
            "ff_block.layers.0.weight\t\t\t29162496\n",
            "ff_block.layers.0.bias\t\t\t256\n",
            "ff_block.layers.1.weight\t\t\t65536\n",
            "ff_block.layers.1.bias\t\t\t256\n",
            "ff_block.layers.2.weight\t\t\t65536\n",
            "ff_block.layers.2.bias\t\t\t256\n",
            "ff_block.layers.3.weight\t\t\t65536\n",
            "ff_block.layers.3.bias\t\t\t256\n",
            "ff_block.layers.4.weight\t\t\t110592\n",
            "ff_block.layers.4.bias\t\t\t432\n",
            "====================================================================================================\n",
            "Total Params:29622960\n",
            "[+]Shuffling dataset...\n"
          ]
        },
        {
          "output_type": "stream",
          "name": "stderr",
          "text": [
            "\r  0%|          | 0/127 [00:00<?, ?it/s]/usr/local/lib/python3.11/dist-packages/torch/utils/data/dataloader.py:617: UserWarning: This DataLoader will create 4 worker processes in total. Our suggested max number of worker in current system is 2, which is smaller than what this DataLoader is going to create. Please be aware that excessive worker creation might get DataLoader running slow or even freeze, lower the worker number to avoid potential slowness/freeze if necessary.\n",
            "  warnings.warn(\n",
            "Epoch 1 loss: 18.54132843017578(cls: 18.540721893310547, reg: 0.0006072913529351354): 100%|██████████| 127/127 [00:16<00:00,  7.53it/s]"
          ]
        },
        {
          "output_type": "stream",
          "name": "stdout",
          "text": [
            "Epoch 1 completed, loss: 17.760488510131836(cls: 17.758596420288086, reg: 0.0018954275874421)\n"
          ]
        },
        {
          "output_type": "stream",
          "name": "stderr",
          "text": [
            "\n"
          ]
        },
        {
          "output_type": "stream",
          "name": "stdout",
          "text": [
            "Validation loss: loss: 17.657474517822266(cls: 17.65683364868164, reg: 0.0006374060758389533)\n",
            "[+]Shuffling dataset...\n"
          ]
        },
        {
          "output_type": "stream",
          "name": "stderr",
          "text": [
            "Epoch 2 loss: 16.928913116455078(cls: 16.92829132080078, reg: 0.0006220544455572963): 100%|██████████| 127/127 [00:16<00:00,  7.51it/s]"
          ]
        },
        {
          "output_type": "stream",
          "name": "stdout",
          "text": [
            "Epoch 2 completed, loss: 17.681825637817383(cls: 17.68148422241211, reg: 0.0003398231347091496)\n"
          ]
        },
        {
          "output_type": "stream",
          "name": "stderr",
          "text": [
            "\n"
          ]
        },
        {
          "output_type": "stream",
          "name": "stdout",
          "text": [
            "Validation loss: loss: 17.637712478637695(cls: 17.637638092041016, reg: 7.956940680742264e-05)\n",
            "[+]Shuffling dataset...\n"
          ]
        },
        {
          "output_type": "stream",
          "name": "stderr",
          "text": [
            "Epoch 3 loss: 18.093334197998047(cls: 18.093252182006836, reg: 8.232587424572557e-05): 100%|██████████| 127/127 [00:17<00:00,  7.24it/s]"
          ]
        },
        {
          "output_type": "stream",
          "name": "stdout",
          "text": [
            "Epoch 3 completed, loss: 17.65068817138672(cls: 17.650449752807617, reg: 0.0002407092833891511)\n"
          ]
        },
        {
          "output_type": "stream",
          "name": "stderr",
          "text": [
            "\n"
          ]
        },
        {
          "output_type": "stream",
          "name": "stdout",
          "text": [
            "Validation loss: loss: 17.69122886657715(cls: 17.691171646118164, reg: 5.563030208577402e-05)\n",
            "[+]Shuffling dataset...\n"
          ]
        },
        {
          "output_type": "stream",
          "name": "stderr",
          "text": [
            "Epoch 4 loss: 18.36224937438965(cls: 18.362201690673828, reg: 4.848768367082812e-05): 100%|██████████| 127/127 [00:17<00:00,  7.33it/s]"
          ]
        },
        {
          "output_type": "stream",
          "name": "stdout",
          "text": [
            "Epoch 4 completed, loss: 17.602157592773438(cls: 17.601533889770508, reg: 0.0006246307748369873)\n"
          ]
        },
        {
          "output_type": "stream",
          "name": "stderr",
          "text": [
            "\n"
          ]
        },
        {
          "output_type": "stream",
          "name": "stdout",
          "text": [
            "Validation loss: loss: 17.622262954711914(cls: 17.62162971496582, reg: 0.0006268627475947142)\n",
            "[+]Shuffling dataset...\n"
          ]
        },
        {
          "output_type": "stream",
          "name": "stderr",
          "text": [
            "Epoch 5 loss: 17.63783836364746(cls: 17.63730239868164, reg: 0.0005358900525607169): 100%|██████████| 127/127 [00:17<00:00,  7.30it/s]"
          ]
        },
        {
          "output_type": "stream",
          "name": "stdout",
          "text": [
            "Epoch 5 completed, loss: 17.512109756469727(cls: 17.51043701171875, reg: 0.0016767471097409725)\n"
          ]
        },
        {
          "output_type": "stream",
          "name": "stderr",
          "text": [
            "\n"
          ]
        },
        {
          "output_type": "stream",
          "name": "stdout",
          "text": [
            "Validation loss: loss: 17.63184356689453(cls: 17.628950119018555, reg: 0.00290865171700716)\n",
            "[+]Shuffling dataset...\n"
          ]
        },
        {
          "output_type": "stream",
          "name": "stderr",
          "text": [
            "Epoch 6 loss: 16.790069580078125(cls: 16.786815643310547, reg: 0.003253997303545475): 100%|██████████| 127/127 [00:17<00:00,  7.33it/s]"
          ]
        },
        {
          "output_type": "stream",
          "name": "stdout",
          "text": [
            "Epoch 6 completed, loss: 17.353126525878906(cls: 17.349441528320312, reg: 0.0036896909587085247)\n"
          ]
        },
        {
          "output_type": "stream",
          "name": "stderr",
          "text": [
            "\n"
          ]
        },
        {
          "output_type": "stream",
          "name": "stdout",
          "text": [
            "Validation loss: loss: 17.66045570373535(cls: 17.656946182250977, reg: 0.0035013961605727673)\n",
            "[+]Shuffling dataset...\n"
          ]
        },
        {
          "output_type": "stream",
          "name": "stderr",
          "text": [
            "Epoch 7 loss: 16.50062370300293(cls: 16.496591567993164, reg: 0.0040316046215593815): 100%|██████████| 127/127 [00:17<00:00,  7.35it/s]"
          ]
        },
        {
          "output_type": "stream",
          "name": "stdout",
          "text": [
            "Epoch 7 completed, loss: 17.036039352416992(cls: 17.029069900512695, reg: 0.006969777401536703)\n"
          ]
        },
        {
          "output_type": "stream",
          "name": "stderr",
          "text": [
            "\n"
          ]
        },
        {
          "output_type": "stream",
          "name": "stdout",
          "text": [
            "Validation loss: loss: 17.80746841430664(cls: 17.799652099609375, reg: 0.007817111909389496)\n",
            "[+]Shuffling dataset...\n"
          ]
        },
        {
          "output_type": "stream",
          "name": "stderr",
          "text": [
            "Epoch 8 loss: 16.523761749267578(cls: 16.51764678955078, reg: 0.006114624440670013): 100%|██████████| 127/127 [00:17<00:00,  7.37it/s]"
          ]
        },
        {
          "output_type": "stream",
          "name": "stdout",
          "text": [
            "Epoch 8 completed, loss: 16.416847229003906(cls: 16.40235137939453, reg: 0.014499308541417122)\n"
          ]
        },
        {
          "output_type": "stream",
          "name": "stderr",
          "text": [
            "\n"
          ]
        },
        {
          "output_type": "stream",
          "name": "stdout",
          "text": [
            "Validation loss: loss: 17.930606842041016(cls: 17.917112350463867, reg: 0.013499931432306767)\n",
            "[+]Shuffling dataset...\n"
          ]
        },
        {
          "output_type": "stream",
          "name": "stderr",
          "text": [
            "Epoch 9 loss: 15.30254077911377(cls: 15.2899808883667, reg: 0.012559713795781136): 100%|██████████| 127/127 [00:17<00:00,  7.32it/s]"
          ]
        },
        {
          "output_type": "stream",
          "name": "stdout",
          "text": [
            "Epoch 9 completed, loss: 15.265317916870117(cls: 15.240419387817383, reg: 0.024899922311306)\n"
          ]
        },
        {
          "output_type": "stream",
          "name": "stderr",
          "text": [
            "\n"
          ]
        },
        {
          "output_type": "stream",
          "name": "stdout",
          "text": [
            "Validation loss: loss: 18.453824996948242(cls: 18.43404197692871, reg: 0.01978827826678753)\n",
            "[+]Shuffling dataset...\n"
          ]
        },
        {
          "output_type": "stream",
          "name": "stderr",
          "text": [
            "Epoch 10 loss: 12.90202808380127(cls: 12.880836486816406, reg: 0.02119145542383194): 100%|██████████| 127/127 [00:17<00:00,  7.27it/s]"
          ]
        },
        {
          "output_type": "stream",
          "name": "stdout",
          "text": [
            "Epoch 10 completed, loss: 13.580127716064453(cls: 13.547625541687012, reg: 0.0325060673058033)\n"
          ]
        },
        {
          "output_type": "stream",
          "name": "stderr",
          "text": [
            "\n"
          ]
        },
        {
          "output_type": "stream",
          "name": "stdout",
          "text": [
            "Validation loss: loss: 19.115646362304688(cls: 19.091886520385742, reg: 0.023778563365340233)\n",
            "[+]Shuffling dataset...\n"
          ]
        },
        {
          "output_type": "stream",
          "name": "stderr",
          "text": [
            "Epoch 11 loss: 11.594535827636719(cls: 11.570537567138672, reg: 0.023998580873012543): 100%|██████████| 127/127 [00:17<00:00,  7.35it/s]"
          ]
        },
        {
          "output_type": "stream",
          "name": "stdout",
          "text": [
            "Epoch 11 completed, loss: 11.644405364990234(cls: 11.6089506149292, reg: 0.03545261546969414)\n"
          ]
        },
        {
          "output_type": "stream",
          "name": "stderr",
          "text": [
            "\n"
          ]
        },
        {
          "output_type": "stream",
          "name": "stdout",
          "text": [
            "Validation loss: loss: 20.4276180267334(cls: 20.399093627929688, reg: 0.0285198874771595)\n",
            "[+]Shuffling dataset...\n"
          ]
        },
        {
          "output_type": "stream",
          "name": "stderr",
          "text": [
            "Epoch 12 loss: 9.13451862335205(cls: 9.106796264648438, reg: 0.027722032740712166): 100%|██████████| 127/127 [00:17<00:00,  7.38it/s]"
          ]
        },
        {
          "output_type": "stream",
          "name": "stdout",
          "text": [
            "Epoch 12 completed, loss: 9.675583839416504(cls: 9.638627052307129, reg: 0.03695785999298096)\n"
          ]
        },
        {
          "output_type": "stream",
          "name": "stderr",
          "text": [
            "\n"
          ]
        },
        {
          "output_type": "stream",
          "name": "stdout",
          "text": [
            "Validation loss: loss: 22.014583587646484(cls: 21.984922409057617, reg: 0.02964901737868786)\n",
            "[+]Shuffling dataset...\n"
          ]
        },
        {
          "output_type": "stream",
          "name": "stderr",
          "text": [
            "Epoch 13 loss: 8.284416198730469(cls: 8.257043838500977, reg: 0.02737237699329853): 100%|██████████| 127/127 [00:17<00:00,  7.37it/s]"
          ]
        },
        {
          "output_type": "stream",
          "name": "stdout",
          "text": [
            "Epoch 13 completed, loss: 8.0485200881958(cls: 8.012267112731934, reg: 0.03625164553523064)\n"
          ]
        },
        {
          "output_type": "stream",
          "name": "stderr",
          "text": [
            "\n"
          ]
        },
        {
          "output_type": "stream",
          "name": "stdout",
          "text": [
            "Validation loss: loss: 24.14266586303711(cls: 24.11056137084961, reg: 0.03211774677038193)\n",
            "[+]Shuffling dataset...\n"
          ]
        },
        {
          "output_type": "stream",
          "name": "stderr",
          "text": [
            "Epoch 14 loss: 6.027218818664551(cls: 5.990544319152832, reg: 0.036674417555332184): 100%|██████████| 127/127 [00:17<00:00,  7.31it/s]"
          ]
        },
        {
          "output_type": "stream",
          "name": "stdout",
          "text": [
            "Epoch 14 completed, loss: 6.781026840209961(cls: 6.7443647384643555, reg: 0.036662906408309937)\n"
          ]
        },
        {
          "output_type": "stream",
          "name": "stderr",
          "text": [
            "\n"
          ]
        },
        {
          "output_type": "stream",
          "name": "stdout",
          "text": [
            "Validation loss: loss: 26.183998107910156(cls: 26.15419578552246, reg: 0.02979424223303795)\n",
            "[+]Shuffling dataset...\n"
          ]
        },
        {
          "output_type": "stream",
          "name": "stderr",
          "text": [
            "Epoch 15 loss: 6.119129180908203(cls: 6.090217590332031, reg: 0.02891162596642971): 100%|██████████| 127/127 [00:17<00:00,  7.30it/s]"
          ]
        },
        {
          "output_type": "stream",
          "name": "stdout",
          "text": [
            "Epoch 15 completed, loss: 5.748045921325684(cls: 5.713979244232178, reg: 0.03406313806772232)\n"
          ]
        },
        {
          "output_type": "stream",
          "name": "stderr",
          "text": [
            "\n"
          ]
        },
        {
          "output_type": "stream",
          "name": "stdout",
          "text": [
            "Validation loss: loss: 28.396793365478516(cls: 28.367595672607422, reg: 0.029214875772595406)\n",
            "[+]Shuffling dataset...\n"
          ]
        },
        {
          "output_type": "stream",
          "name": "stderr",
          "text": [
            "Epoch 16 loss: 5.696603775024414(cls: 5.668907165527344, reg: 0.0276965145021677): 100%|██████████| 127/127 [00:17<00:00,  7.40it/s]"
          ]
        },
        {
          "output_type": "stream",
          "name": "stdout",
          "text": [
            "Epoch 16 completed, loss: 4.994128704071045(cls: 4.962336540222168, reg: 0.031791698187589645)\n"
          ]
        },
        {
          "output_type": "stream",
          "name": "stderr",
          "text": [
            "\n"
          ]
        },
        {
          "output_type": "stream",
          "name": "stdout",
          "text": [
            "Validation loss: loss: 30.0073184967041(cls: 29.97765350341797, reg: 0.02965725213289261)\n",
            "[+]Shuffling dataset...\n"
          ]
        },
        {
          "output_type": "stream",
          "name": "stderr",
          "text": [
            "Epoch 17 loss: 4.1571855545043945(cls: 4.129333972930908, reg: 0.027851693332195282): 100%|██████████| 127/127 [00:17<00:00,  7.38it/s]"
          ]
        },
        {
          "output_type": "stream",
          "name": "stdout",
          "text": [
            "Epoch 17 completed, loss: 4.485151767730713(cls: 4.455785751342773, reg: 0.029364289715886116)\n"
          ]
        },
        {
          "output_type": "stream",
          "name": "stderr",
          "text": [
            "\n"
          ]
        },
        {
          "output_type": "stream",
          "name": "stdout",
          "text": [
            "Validation loss: loss: 30.490089416503906(cls: 30.463232040405273, reg: 0.026870639994740486)\n",
            "[+]Shuffling dataset...\n"
          ]
        },
        {
          "output_type": "stream",
          "name": "stderr",
          "text": [
            "Epoch 18 loss: 3.524207592010498(cls: 3.495201587677002, reg: 0.029006078839302063): 100%|██████████| 127/127 [00:17<00:00,  7.37it/s]"
          ]
        },
        {
          "output_type": "stream",
          "name": "stdout",
          "text": [
            "Epoch 18 completed, loss: 4.085842609405518(cls: 4.058261394500732, reg: 0.02758064679801464)\n"
          ]
        },
        {
          "output_type": "stream",
          "name": "stderr",
          "text": [
            "\n"
          ]
        },
        {
          "output_type": "stream",
          "name": "stdout",
          "text": [
            "Validation loss: loss: 32.1374397277832(cls: 32.10975646972656, reg: 0.02768135443329811)\n",
            "[+]Shuffling dataset...\n"
          ]
        },
        {
          "output_type": "stream",
          "name": "stderr",
          "text": [
            "Epoch 19 loss: 3.233517646789551(cls: 3.206157922744751, reg: 0.027359606698155403): 100%|██████████| 127/127 [00:17<00:00,  7.28it/s]"
          ]
        },
        {
          "output_type": "stream",
          "name": "stdout",
          "text": [
            "Epoch 19 completed, loss: 3.750925064086914(cls: 3.724879264831543, reg: 0.026047175750136375)\n"
          ]
        },
        {
          "output_type": "stream",
          "name": "stderr",
          "text": [
            "\n"
          ]
        },
        {
          "output_type": "stream",
          "name": "stdout",
          "text": [
            "Validation loss: loss: 32.87677001953125(cls: 32.8546257019043, reg: 0.022131826728582382)\n",
            "[+]Shuffling dataset...\n"
          ]
        },
        {
          "output_type": "stream",
          "name": "stderr",
          "text": [
            "Epoch 20 loss: 2.963660955429077(cls: 2.944131374359131, reg: 0.019529469311237335): 100%|██████████| 127/127 [00:17<00:00,  7.32it/s]"
          ]
        },
        {
          "output_type": "stream",
          "name": "stdout",
          "text": [
            "Epoch 20 completed, loss: 3.4199888706207275(cls: 3.3957250118255615, reg: 0.02426282688975334)\n"
          ]
        },
        {
          "output_type": "stream",
          "name": "stderr",
          "text": [
            "\n"
          ]
        },
        {
          "output_type": "stream",
          "name": "stdout",
          "text": [
            "Validation loss: loss: 33.69263458251953(cls: 33.6629524230957, reg: 0.029673704877495766)\n",
            "[+]Shuffling dataset...\n"
          ]
        },
        {
          "output_type": "stream",
          "name": "stderr",
          "text": [
            "Epoch 21 loss: 4.205653190612793(cls: 4.170458793640137, reg: 0.0351945236325264): 100%|██████████| 127/127 [00:17<00:00,  7.29it/s]"
          ]
        },
        {
          "output_type": "stream",
          "name": "stdout",
          "text": [
            "Epoch 21 completed, loss: 3.192621946334839(cls: 3.168642520904541, reg: 0.023979797959327698)\n"
          ]
        },
        {
          "output_type": "stream",
          "name": "stderr",
          "text": [
            "\n"
          ]
        },
        {
          "output_type": "stream",
          "name": "stdout",
          "text": [
            "Validation loss: loss: 34.18791198730469(cls: 34.16633224487305, reg: 0.021580830216407776)\n",
            "[+]Shuffling dataset...\n"
          ]
        },
        {
          "output_type": "stream",
          "name": "stderr",
          "text": [
            "Epoch 22 loss: 2.9422924518585205(cls: 2.922329902648926, reg: 0.01996248960494995): 100%|██████████| 127/127 [00:17<00:00,  7.32it/s]"
          ]
        },
        {
          "output_type": "stream",
          "name": "stdout",
          "text": [
            "Epoch 22 completed, loss: 3.1406054496765137(cls: 3.1183598041534424, reg: 0.022245459258556366)\n"
          ]
        },
        {
          "output_type": "stream",
          "name": "stderr",
          "text": [
            "\n"
          ]
        },
        {
          "output_type": "stream",
          "name": "stdout",
          "text": [
            "Validation loss: loss: 34.59537124633789(cls: 34.575416564941406, reg: 0.019936975091695786)\n",
            "[+]Shuffling dataset...\n"
          ]
        },
        {
          "output_type": "stream",
          "name": "stderr",
          "text": [
            "Epoch 23 loss: 2.0504517555236816(cls: 2.0358974933624268, reg: 0.014554229564964771): 100%|██████████| 127/127 [00:17<00:00,  7.34it/s]"
          ]
        },
        {
          "output_type": "stream",
          "name": "stdout",
          "text": [
            "Epoch 23 completed, loss: 2.9997236728668213(cls: 2.9785454273223877, reg: 0.02117762714624405)\n"
          ]
        },
        {
          "output_type": "stream",
          "name": "stderr",
          "text": [
            "\n"
          ]
        },
        {
          "output_type": "stream",
          "name": "stdout",
          "text": [
            "Validation loss: loss: 35.38886260986328(cls: 35.367576599121094, reg: 0.021283796057105064)\n",
            "[+]Shuffling dataset...\n"
          ]
        },
        {
          "output_type": "stream",
          "name": "stderr",
          "text": [
            "Epoch 24 loss: 3.927760601043701(cls: 3.9067225456237793, reg: 0.021037956699728966): 100%|██████████| 127/127 [00:17<00:00,  7.36it/s]"
          ]
        },
        {
          "output_type": "stream",
          "name": "stdout",
          "text": [
            "Epoch 24 completed, loss: 2.8985133171081543(cls: 2.8788352012634277, reg: 0.019680507481098175)\n"
          ]
        },
        {
          "output_type": "stream",
          "name": "stderr",
          "text": [
            "\n"
          ]
        },
        {
          "output_type": "stream",
          "name": "stdout",
          "text": [
            "Validation loss: loss: 35.88325500488281(cls: 35.86418914794922, reg: 0.01904742792248726)\n",
            "[+]Shuffling dataset...\n"
          ]
        },
        {
          "output_type": "stream",
          "name": "stderr",
          "text": [
            "Epoch 25 loss: 2.4641973972320557(cls: 2.4478960037231445, reg: 0.016301343217492104): 100%|██████████| 127/127 [00:17<00:00,  7.29it/s]"
          ]
        },
        {
          "output_type": "stream",
          "name": "stdout",
          "text": [
            "Epoch 25 completed, loss: 2.8324966430664062(cls: 2.8137314319610596, reg: 0.01876521296799183)\n"
          ]
        },
        {
          "output_type": "stream",
          "name": "stderr",
          "text": [
            "\n"
          ]
        },
        {
          "output_type": "stream",
          "name": "stdout",
          "text": [
            "Validation loss: loss: 35.645591735839844(cls: 35.625972747802734, reg: 0.019620543345808983)\n",
            "[+]Shuffling dataset...\n"
          ]
        },
        {
          "output_type": "stream",
          "name": "stderr",
          "text": [
            "Epoch 26 loss: 2.049588918685913(cls: 2.0281662940979004, reg: 0.021422643214464188): 100%|██████████| 127/127 [00:17<00:00,  7.30it/s]"
          ]
        },
        {
          "output_type": "stream",
          "name": "stdout",
          "text": [
            "Epoch 26 completed, loss: 2.75925874710083(cls: 2.741060972213745, reg: 0.01819729246199131)\n"
          ]
        },
        {
          "output_type": "stream",
          "name": "stderr",
          "text": [
            "\n"
          ]
        },
        {
          "output_type": "stream",
          "name": "stdout",
          "text": [
            "Validation loss: loss: 36.268035888671875(cls: 36.251060485839844, reg: 0.01701582781970501)\n",
            "[+]Shuffling dataset...\n"
          ]
        },
        {
          "output_type": "stream",
          "name": "stderr",
          "text": [
            "Epoch 27 loss: 2.613513708114624(cls: 2.59639835357666, reg: 0.01711530052125454): 100%|██████████| 127/127 [00:17<00:00,  7.31it/s]"
          ]
        },
        {
          "output_type": "stream",
          "name": "stdout",
          "text": [
            "Epoch 27 completed, loss: 2.6758604049682617(cls: 2.6584603786468506, reg: 0.01740012690424919)\n"
          ]
        },
        {
          "output_type": "stream",
          "name": "stderr",
          "text": [
            "\n"
          ]
        },
        {
          "output_type": "stream",
          "name": "stdout",
          "text": [
            "Validation loss: loss: 37.49384689331055(cls: 37.47705841064453, reg: 0.016767023131251335)\n",
            "[+]Shuffling dataset...\n"
          ]
        },
        {
          "output_type": "stream",
          "name": "stderr",
          "text": [
            "Epoch 28 loss: 2.505120277404785(cls: 2.4917612075805664, reg: 0.01335899531841278): 100%|██████████| 127/127 [00:17<00:00,  7.35it/s]"
          ]
        },
        {
          "output_type": "stream",
          "name": "stdout",
          "text": [
            "Epoch 28 completed, loss: 2.610546350479126(cls: 2.5939533710479736, reg: 0.0165926031768322)\n"
          ]
        },
        {
          "output_type": "stream",
          "name": "stderr",
          "text": [
            "\n"
          ]
        },
        {
          "output_type": "stream",
          "name": "stdout",
          "text": [
            "Validation loss: loss: 37.43688201904297(cls: 37.41938781738281, reg: 0.017517680302262306)\n",
            "[+]Shuffling dataset...\n"
          ]
        },
        {
          "output_type": "stream",
          "name": "stderr",
          "text": [
            "Epoch 29 loss: 2.2090182304382324(cls: 2.192439317703247, reg: 0.0165789183229208): 100%|██████████| 127/127 [00:17<00:00,  7.37it/s]"
          ]
        },
        {
          "output_type": "stream",
          "name": "stdout",
          "text": [
            "Epoch 29 completed, loss: 2.6243624687194824(cls: 2.608564615249634, reg: 0.01579876057803631)\n"
          ]
        },
        {
          "output_type": "stream",
          "name": "stderr",
          "text": [
            "\n"
          ]
        },
        {
          "output_type": "stream",
          "name": "stdout",
          "text": [
            "Validation loss: loss: 37.63566970825195(cls: 37.61748504638672, reg: 0.018193433061242104)\n",
            "[+]Shuffling dataset...\n"
          ]
        },
        {
          "output_type": "stream",
          "name": "stderr",
          "text": [
            "Epoch 30 loss: 2.8528339862823486(cls: 2.833500862121582, reg: 0.01933312974870205): 100%|██████████| 127/127 [00:17<00:00,  7.37it/s]"
          ]
        },
        {
          "output_type": "stream",
          "name": "stdout",
          "text": [
            "Epoch 30 completed, loss: 2.6839020252227783(cls: 2.6688902378082275, reg: 0.015010804869234562)\n"
          ]
        },
        {
          "output_type": "stream",
          "name": "stderr",
          "text": [
            "\n"
          ]
        },
        {
          "output_type": "stream",
          "name": "stdout",
          "text": [
            "Validation loss: loss: 36.95987319946289(cls: 36.94169616699219, reg: 0.01822681352496147)\n",
            "[+]Shuffling dataset...\n"
          ]
        },
        {
          "output_type": "stream",
          "name": "stderr",
          "text": [
            "Epoch 31 loss: 2.209418773651123(cls: 2.1939220428466797, reg: 0.015496738255023956): 100%|██████████| 127/127 [00:17<00:00,  7.30it/s]"
          ]
        },
        {
          "output_type": "stream",
          "name": "stdout",
          "text": [
            "Epoch 31 completed, loss: 2.6963136196136475(cls: 2.680818796157837, reg: 0.015495088882744312)\n"
          ]
        },
        {
          "output_type": "stream",
          "name": "stderr",
          "text": [
            "\n"
          ]
        },
        {
          "output_type": "stream",
          "name": "stdout",
          "text": [
            "Validation loss: loss: 37.345035552978516(cls: 37.33201599121094, reg: 0.013056879863142967)\n",
            "[+]Shuffling dataset...\n"
          ]
        },
        {
          "output_type": "stream",
          "name": "stderr",
          "text": [
            "Epoch 32 loss: 3.582444429397583(cls: 3.5678653717041016, reg: 0.014579162001609802): 100%|██████████| 127/127 [00:17<00:00,  7.31it/s]"
          ]
        },
        {
          "output_type": "stream",
          "name": "stdout",
          "text": [
            "Epoch 32 completed, loss: 2.727651596069336(cls: 2.7134149074554443, reg: 0.014236810617148876)\n"
          ]
        },
        {
          "output_type": "stream",
          "name": "stderr",
          "text": [
            "\n"
          ]
        },
        {
          "output_type": "stream",
          "name": "stdout",
          "text": [
            "Validation loss: loss: 37.505828857421875(cls: 37.493831634521484, reg: 0.012001809664070606)\n",
            "[+]Shuffling dataset...\n"
          ]
        },
        {
          "output_type": "stream",
          "name": "stderr",
          "text": [
            "Epoch 33 loss: 1.7666305303573608(cls: 1.7557744979858398, reg: 0.01085606124252081): 100%|██████████| 127/127 [00:17<00:00,  7.34it/s]"
          ]
        },
        {
          "output_type": "stream",
          "name": "stdout",
          "text": [
            "Epoch 33 completed, loss: 2.639477014541626(cls: 2.625868797302246, reg: 0.013607807457447052)\n"
          ]
        },
        {
          "output_type": "stream",
          "name": "stderr",
          "text": [
            "\n"
          ]
        },
        {
          "output_type": "stream",
          "name": "stdout",
          "text": [
            "Validation loss: loss: 37.25431442260742(cls: 37.242862701416016, reg: 0.011471662670373917)\n",
            "[+]Shuffling dataset...\n"
          ]
        },
        {
          "output_type": "stream",
          "name": "stderr",
          "text": [
            "Epoch 34 loss: 2.556572437286377(cls: 2.54709529876709, reg: 0.009477231651544571): 100%|██████████| 127/127 [00:17<00:00,  7.27it/s]"
          ]
        },
        {
          "output_type": "stream",
          "name": "stdout",
          "text": [
            "Epoch 34 completed, loss: 2.565337896347046(cls: 2.5522522926330566, reg: 0.01308569498360157)\n"
          ]
        },
        {
          "output_type": "stream",
          "name": "stderr",
          "text": [
            "\n"
          ]
        },
        {
          "output_type": "stream",
          "name": "stdout",
          "text": [
            "Validation loss: loss: 37.96877670288086(cls: 37.95556640625, reg: 0.013207362033426762)\n",
            "[+]Shuffling dataset...\n"
          ]
        },
        {
          "output_type": "stream",
          "name": "stderr",
          "text": [
            "Epoch 35 loss: 2.087059259414673(cls: 2.0767745971679688, reg: 0.0102846072986722): 100%|██████████| 127/127 [00:17<00:00,  7.38it/s]"
          ]
        },
        {
          "output_type": "stream",
          "name": "stdout",
          "text": [
            "Epoch 35 completed, loss: 2.4595725536346436(cls: 2.446748733520508, reg: 0.012823420576751232)\n"
          ]
        },
        {
          "output_type": "stream",
          "name": "stderr",
          "text": [
            "\n"
          ]
        },
        {
          "output_type": "stream",
          "name": "stdout",
          "text": [
            "Validation loss: loss: 37.89279556274414(cls: 37.87610626220703, reg: 0.01668662391602993)\n",
            "[+]Shuffling dataset...\n"
          ]
        },
        {
          "output_type": "stream",
          "name": "stderr",
          "text": [
            "Epoch 36 loss: 2.3493738174438477(cls: 2.335143566131592, reg: 0.014230232685804367): 100%|██████████| 127/127 [00:17<00:00,  7.36it/s]"
          ]
        },
        {
          "output_type": "stream",
          "name": "stdout",
          "text": [
            "Epoch 36 completed, loss: 2.4760310649871826(cls: 2.463534116744995, reg: 0.01249657105654478)\n"
          ]
        },
        {
          "output_type": "stream",
          "name": "stderr",
          "text": [
            "\n"
          ]
        },
        {
          "output_type": "stream",
          "name": "stdout",
          "text": [
            "Validation loss: loss: 38.274574279785156(cls: 38.263397216796875, reg: 0.011162465438246727)\n",
            "[+]Shuffling dataset...\n"
          ]
        },
        {
          "output_type": "stream",
          "name": "stderr",
          "text": [
            "Epoch 37 loss: 1.920501470565796(cls: 1.9111762046813965, reg: 0.00932527706027031): 100%|██████████| 127/127 [00:17<00:00,  7.25it/s]"
          ]
        },
        {
          "output_type": "stream",
          "name": "stdout",
          "text": [
            "Epoch 37 completed, loss: 2.419434070587158(cls: 2.407764434814453, reg: 0.011669846251606941)\n"
          ]
        },
        {
          "output_type": "stream",
          "name": "stderr",
          "text": [
            "\n"
          ]
        },
        {
          "output_type": "stream",
          "name": "stdout",
          "text": [
            "Validation loss: loss: 38.952823638916016(cls: 38.94279479980469, reg: 0.010069410316646099)\n",
            "[+]Shuffling dataset...\n"
          ]
        },
        {
          "output_type": "stream",
          "name": "stderr",
          "text": [
            "Epoch 38 loss: 1.941607117652893(cls: 1.928889274597168, reg: 0.012717824429273605): 100%|██████████| 127/127 [00:17<00:00,  7.32it/s]"
          ]
        },
        {
          "output_type": "stream",
          "name": "stdout",
          "text": [
            "Epoch 38 completed, loss: 2.357501268386841(cls: 2.3462610244750977, reg: 0.011239771731197834)\n"
          ]
        },
        {
          "output_type": "stream",
          "name": "stderr",
          "text": [
            "\n"
          ]
        },
        {
          "output_type": "stream",
          "name": "stdout",
          "text": [
            "Validation loss: loss: 39.04338073730469(cls: 39.03058624267578, reg: 0.012789801694452763)\n",
            "[+]Shuffling dataset...\n"
          ]
        },
        {
          "output_type": "stream",
          "name": "stderr",
          "text": [
            "Epoch 39 loss: 3.1953775882720947(cls: 3.181354522705078, reg: 0.014023014344274998): 100%|██████████| 127/127 [00:17<00:00,  7.31it/s]"
          ]
        },
        {
          "output_type": "stream",
          "name": "stdout",
          "text": [
            "Epoch 39 completed, loss: 2.343768358230591(cls: 2.332305669784546, reg: 0.011462687514722347)\n"
          ]
        },
        {
          "output_type": "stream",
          "name": "stderr",
          "text": [
            "\n"
          ]
        },
        {
          "output_type": "stream",
          "name": "stdout",
          "text": [
            "Validation loss: loss: 39.38865280151367(cls: 39.37605285644531, reg: 0.012619995512068272)\n",
            "[+]Shuffling dataset...\n"
          ]
        },
        {
          "output_type": "stream",
          "name": "stderr",
          "text": [
            "Epoch 40 loss: 2.17317271232605(cls: 2.163325309753418, reg: 0.00984750036150217): 100%|██████████| 127/127 [00:17<00:00,  7.32it/s]"
          ]
        },
        {
          "output_type": "stream",
          "name": "stdout",
          "text": [
            "Epoch 40 completed, loss: 2.36342453956604(cls: 2.3518309593200684, reg: 0.011593344621360302)\n"
          ]
        },
        {
          "output_type": "stream",
          "name": "stderr",
          "text": [
            "\n"
          ]
        },
        {
          "output_type": "stream",
          "name": "stdout",
          "text": [
            "Validation loss: loss: 39.50221633911133(cls: 39.490543365478516, reg: 0.01169554702937603)\n",
            "[+]Shuffling dataset...\n"
          ]
        },
        {
          "output_type": "stream",
          "name": "stderr",
          "text": [
            "Epoch 41 loss: 2.832517147064209(cls: 2.8233234882354736, reg: 0.009193738922476768): 100%|██████████| 127/127 [00:17<00:00,  7.37it/s]"
          ]
        },
        {
          "output_type": "stream",
          "name": "stdout",
          "text": [
            "Epoch 41 completed, loss: 2.414231538772583(cls: 2.4022815227508545, reg: 0.011950274929404259)\n"
          ]
        },
        {
          "output_type": "stream",
          "name": "stderr",
          "text": [
            "\n"
          ]
        },
        {
          "output_type": "stream",
          "name": "stdout",
          "text": [
            "Validation loss: loss: 39.834228515625(cls: 39.81852722167969, reg: 0.01570173352956772)\n",
            "[+]Shuffling dataset...\n"
          ]
        },
        {
          "output_type": "stream",
          "name": "stderr",
          "text": [
            "Epoch 42 loss: 2.937509059906006(cls: 2.9212841987609863, reg: 0.016224971041083336): 100%|██████████| 127/127 [00:17<00:00,  7.36it/s]"
          ]
        },
        {
          "output_type": "stream",
          "name": "stdout",
          "text": [
            "Epoch 42 completed, loss: 2.460190773010254(cls: 2.449096202850342, reg: 0.011093887500464916)\n"
          ]
        },
        {
          "output_type": "stream",
          "name": "stderr",
          "text": [
            "\n"
          ]
        },
        {
          "output_type": "stream",
          "name": "stdout",
          "text": [
            "Validation loss: loss: 39.390113830566406(cls: 39.37956237792969, reg: 0.010577262379229069)\n",
            "[+]Shuffling dataset...\n"
          ]
        },
        {
          "output_type": "stream",
          "name": "stderr",
          "text": [
            "Epoch 43 loss: 2.9805567264556885(cls: 2.9715476036071777, reg: 0.00900903157889843): 100%|██████████| 127/127 [00:17<00:00,  7.31it/s]"
          ]
        },
        {
          "output_type": "stream",
          "name": "stdout",
          "text": [
            "Epoch 43 completed, loss: 2.5136196613311768(cls: 2.5030133724212646, reg: 0.01060653105378151)\n"
          ]
        },
        {
          "output_type": "stream",
          "name": "stderr",
          "text": [
            "\n"
          ]
        },
        {
          "output_type": "stream",
          "name": "stdout",
          "text": [
            "Validation loss: loss: 39.465946197509766(cls: 39.453670501708984, reg: 0.012268373742699623)\n",
            "[+]Shuffling dataset...\n"
          ]
        },
        {
          "output_type": "stream",
          "name": "stderr",
          "text": [
            "Epoch 44 loss: 2.3209750652313232(cls: 2.310345411300659, reg: 0.010629748925566673): 100%|██████████| 127/127 [00:17<00:00,  7.29it/s]"
          ]
        },
        {
          "output_type": "stream",
          "name": "stdout",
          "text": [
            "Epoch 44 completed, loss: 2.5201849937438965(cls: 2.5096118450164795, reg: 0.01057238969951868)\n"
          ]
        },
        {
          "output_type": "stream",
          "name": "stderr",
          "text": [
            "\n"
          ]
        },
        {
          "output_type": "stream",
          "name": "stdout",
          "text": [
            "Validation loss: loss: 39.16060256958008(cls: 39.15083312988281, reg: 0.009749664925038815)\n",
            "[+]Shuffling dataset...\n"
          ]
        },
        {
          "output_type": "stream",
          "name": "stderr",
          "text": [
            "Epoch 45 loss: 2.4440879821777344(cls: 2.4352033138275146, reg: 0.008884714916348457): 100%|██████████| 127/127 [00:17<00:00,  7.33it/s]"
          ]
        },
        {
          "output_type": "stream",
          "name": "stdout",
          "text": [
            "Epoch 45 completed, loss: 2.5449869632720947(cls: 2.535102605819702, reg: 0.009885010309517384)\n"
          ]
        },
        {
          "output_type": "stream",
          "name": "stderr",
          "text": [
            "\n"
          ]
        },
        {
          "output_type": "stream",
          "name": "stdout",
          "text": [
            "Validation loss: loss: 39.88725662231445(cls: 39.875240325927734, reg: 0.012006179429590702)\n",
            "[+]Shuffling dataset...\n"
          ]
        },
        {
          "output_type": "stream",
          "name": "stderr",
          "text": [
            "Epoch 46 loss: 1.708492398262024(cls: 1.6997261047363281, reg: 0.008766324259340763): 100%|██████████| 127/127 [00:17<00:00,  7.33it/s]"
          ]
        },
        {
          "output_type": "stream",
          "name": "stdout",
          "text": [
            "Epoch 46 completed, loss: 2.5514605045318604(cls: 2.5414137840270996, reg: 0.010047419928014278)\n"
          ]
        },
        {
          "output_type": "stream",
          "name": "stderr",
          "text": [
            "\n"
          ]
        },
        {
          "output_type": "stream",
          "name": "stdout",
          "text": [
            "Validation loss: loss: 39.11075210571289(cls: 39.10250473022461, reg: 0.00826306827366352)\n",
            "[+]Shuffling dataset...\n"
          ]
        },
        {
          "output_type": "stream",
          "name": "stderr",
          "text": [
            "Epoch 47 loss: 2.539750814437866(cls: 2.534681558609009, reg: 0.005069190636277199): 100%|██████████| 127/127 [00:17<00:00,  7.36it/s]"
          ]
        },
        {
          "output_type": "stream",
          "name": "stdout",
          "text": [
            "Epoch 47 completed, loss: 2.5836470127105713(cls: 2.5739307403564453, reg: 0.009716848842799664)\n"
          ]
        },
        {
          "output_type": "stream",
          "name": "stderr",
          "text": [
            "\n"
          ]
        },
        {
          "output_type": "stream",
          "name": "stdout",
          "text": [
            "Validation loss: loss: 39.783329010009766(cls: 39.77321243286133, reg: 0.010120309889316559)\n",
            "[+]Shuffling dataset...\n"
          ]
        },
        {
          "output_type": "stream",
          "name": "stderr",
          "text": [
            "Epoch 48 loss: 2.7281646728515625(cls: 2.7215003967285156, reg: 0.00666438415646553): 100%|██████████| 127/127 [00:17<00:00,  7.34it/s]"
          ]
        },
        {
          "output_type": "stream",
          "name": "stdout",
          "text": [
            "Epoch 48 completed, loss: 2.523624897003174(cls: 2.5145037174224854, reg: 0.009122327901422977)\n"
          ]
        },
        {
          "output_type": "stream",
          "name": "stderr",
          "text": [
            "\n"
          ]
        },
        {
          "output_type": "stream",
          "name": "stdout",
          "text": [
            "Validation loss: loss: 39.718990325927734(cls: 39.709964752197266, reg: 0.009036384522914886)\n",
            "[+]Shuffling dataset...\n"
          ]
        },
        {
          "output_type": "stream",
          "name": "stderr",
          "text": [
            "Epoch 49 loss: 2.407927989959717(cls: 2.3986096382141113, reg: 0.009318238124251366): 100%|██████████| 127/127 [00:17<00:00,  7.27it/s]"
          ]
        },
        {
          "output_type": "stream",
          "name": "stdout",
          "text": [
            "Epoch 49 completed, loss: 2.5291635990142822(cls: 2.5194294452667236, reg: 0.009734437800943851)\n"
          ]
        },
        {
          "output_type": "stream",
          "name": "stderr",
          "text": [
            "\n"
          ]
        },
        {
          "output_type": "stream",
          "name": "stdout",
          "text": [
            "Validation loss: loss: 40.28422546386719(cls: 40.271785736083984, reg: 0.0124644311144948)\n",
            "[+]Shuffling dataset...\n"
          ]
        },
        {
          "output_type": "stream",
          "name": "stderr",
          "text": [
            "Epoch 50 loss: 2.0352940559387207(cls: 2.027245283126831, reg: 0.008048726245760918): 100%|██████████| 127/127 [00:17<00:00,  7.29it/s]"
          ]
        },
        {
          "output_type": "stream",
          "name": "stdout",
          "text": [
            "Epoch 50 completed, loss: 2.6400504112243652(cls: 2.6308670043945312, reg: 0.009182850830256939)\n"
          ]
        },
        {
          "output_type": "stream",
          "name": "stderr",
          "text": [
            "\n"
          ]
        },
        {
          "output_type": "stream",
          "name": "stdout",
          "text": [
            "Validation loss: loss: 39.186397552490234(cls: 39.17841720581055, reg: 0.007992574945092201)\n",
            "[+]Shuffling dataset...\n"
          ]
        },
        {
          "output_type": "stream",
          "name": "stderr",
          "text": [
            "Epoch 51 loss: 2.2294578552246094(cls: 2.2217066287994385, reg: 0.007751237601041794): 100%|██████████| 127/127 [00:17<00:00,  7.31it/s]"
          ]
        },
        {
          "output_type": "stream",
          "name": "stdout",
          "text": [
            "Epoch 51 completed, loss: 2.6493594646453857(cls: 2.6409475803375244, reg: 0.008413257077336311)\n"
          ]
        },
        {
          "output_type": "stream",
          "name": "stderr",
          "text": [
            "\n"
          ]
        },
        {
          "output_type": "stream",
          "name": "stdout",
          "text": [
            "Validation loss: loss: 39.16236877441406(cls: 39.153926849365234, reg: 0.008435075171291828)\n",
            "[+]Shuffling dataset...\n"
          ]
        },
        {
          "output_type": "stream",
          "name": "stderr",
          "text": [
            "Epoch 52 loss: 2.263833522796631(cls: 2.25567626953125, reg: 0.008157188072800636): 100%|██████████| 127/127 [00:17<00:00,  7.35it/s]"
          ]
        },
        {
          "output_type": "stream",
          "name": "stdout",
          "text": [
            "Epoch 52 completed, loss: 2.629625082015991(cls: 2.6211986541748047, reg: 0.008426612243056297)\n"
          ]
        },
        {
          "output_type": "stream",
          "name": "stderr",
          "text": [
            "\n"
          ]
        },
        {
          "output_type": "stream",
          "name": "stdout",
          "text": [
            "Validation loss: loss: 38.874961853027344(cls: 38.865257263183594, reg: 0.009668393060564995)\n",
            "[+]Shuffling dataset...\n"
          ]
        },
        {
          "output_type": "stream",
          "name": "stderr",
          "text": [
            "Epoch 53 loss: 2.593611478805542(cls: 2.5814478397369385, reg: 0.012163609266281128): 100%|██████████| 127/127 [00:17<00:00,  7.32it/s]"
          ]
        },
        {
          "output_type": "stream",
          "name": "stdout",
          "text": [
            "Epoch 53 completed, loss: 2.561040163040161(cls: 2.5528671741485596, reg: 0.00817190669476986)\n"
          ]
        },
        {
          "output_type": "stream",
          "name": "stderr",
          "text": [
            "\n"
          ]
        },
        {
          "output_type": "stream",
          "name": "stdout",
          "text": [
            "Validation loss: loss: 39.185646057128906(cls: 39.17757797241211, reg: 0.008089453913271427)\n",
            "[+]Shuffling dataset...\n"
          ]
        },
        {
          "output_type": "stream",
          "name": "stderr",
          "text": [
            "Epoch 54 loss: 2.9537343978881836(cls: 2.939229965209961, reg: 0.014504523016512394): 100%|██████████| 127/127 [00:17<00:00,  7.31it/s]"
          ]
        },
        {
          "output_type": "stream",
          "name": "stdout",
          "text": [
            "Epoch 54 completed, loss: 2.55318546295166(cls: 2.5440127849578857, reg: 0.009172285906970501)\n"
          ]
        },
        {
          "output_type": "stream",
          "name": "stderr",
          "text": [
            "\n"
          ]
        },
        {
          "output_type": "stream",
          "name": "stdout",
          "text": [
            "Validation loss: loss: 39.818817138671875(cls: 39.80769348144531, reg: 0.011117654852569103)\n",
            "[+]Shuffling dataset...\n"
          ]
        },
        {
          "output_type": "stream",
          "name": "stderr",
          "text": [
            "Epoch 55 loss: 2.676915407180786(cls: 2.666687488555908, reg: 0.01022790651768446): 100%|██████████| 127/127 [00:17<00:00,  7.32it/s]"
          ]
        },
        {
          "output_type": "stream",
          "name": "stdout",
          "text": [
            "Epoch 55 completed, loss: 2.457765579223633(cls: 2.4494502544403076, reg: 0.008316298015415668)\n"
          ]
        },
        {
          "output_type": "stream",
          "name": "stderr",
          "text": [
            "\n"
          ]
        },
        {
          "output_type": "stream",
          "name": "stdout",
          "text": [
            "Validation loss: loss: 39.63652420043945(cls: 39.62808609008789, reg: 0.008440621197223663)\n",
            "[+]Shuffling dataset...\n"
          ]
        },
        {
          "output_type": "stream",
          "name": "stderr",
          "text": [
            "Epoch 56 loss: 2.705078601837158(cls: 2.693037986755371, reg: 0.012040693312883377): 100%|██████████| 127/127 [00:17<00:00,  7.29it/s]"
          ]
        },
        {
          "output_type": "stream",
          "name": "stdout",
          "text": [
            "Epoch 56 completed, loss: 2.4135782718658447(cls: 2.405817985534668, reg: 0.007760826963931322)\n"
          ]
        },
        {
          "output_type": "stream",
          "name": "stderr",
          "text": [
            "\n"
          ]
        },
        {
          "output_type": "stream",
          "name": "stdout",
          "text": [
            "Validation loss: loss: 39.76865768432617(cls: 39.76174545288086, reg: 0.006881995126605034)\n",
            "[+]Shuffling dataset...\n"
          ]
        },
        {
          "output_type": "stream",
          "name": "stderr",
          "text": [
            "Epoch 57 loss: 1.681739330291748(cls: 1.6754076480865479, reg: 0.006331705488264561): 100%|██████████| 127/127 [00:17<00:00,  7.27it/s]"
          ]
        },
        {
          "output_type": "stream",
          "name": "stdout",
          "text": [
            "Epoch 57 completed, loss: 2.3854215145111084(cls: 2.378307580947876, reg: 0.00711420550942421)\n"
          ]
        },
        {
          "output_type": "stream",
          "name": "stderr",
          "text": [
            "\n"
          ]
        },
        {
          "output_type": "stream",
          "name": "stdout",
          "text": [
            "Validation loss: loss: 40.843807220458984(cls: 40.836219787597656, reg: 0.007612625602632761)\n",
            "[+]Shuffling dataset...\n"
          ]
        },
        {
          "output_type": "stream",
          "name": "stderr",
          "text": [
            "Epoch 58 loss: 3.1447083950042725(cls: 3.1376309394836426, reg: 0.007077373098582029): 100%|██████████| 127/127 [00:17<00:00,  7.33it/s]"
          ]
        },
        {
          "output_type": "stream",
          "name": "stdout",
          "text": [
            "Epoch 58 completed, loss: 2.4889142513275146(cls: 2.480681896209717, reg: 0.00823278073221445)\n"
          ]
        },
        {
          "output_type": "stream",
          "name": "stderr",
          "text": [
            "\n"
          ]
        },
        {
          "output_type": "stream",
          "name": "stdout",
          "text": [
            "Validation loss: loss: 40.39965057373047(cls: 40.391387939453125, reg: 0.008287347853183746)\n",
            "[+]Shuffling dataset...\n"
          ]
        },
        {
          "output_type": "stream",
          "name": "stderr",
          "text": [
            "Epoch 59 loss: 2.91432523727417(cls: 2.907482624053955, reg: 0.006842613685876131): 100%|██████████| 127/127 [00:17<00:00,  7.25it/s]"
          ]
        },
        {
          "output_type": "stream",
          "name": "stdout",
          "text": [
            "Epoch 59 completed, loss: 2.5340232849121094(cls: 2.525916576385498, reg: 0.008106354624032974)\n"
          ]
        },
        {
          "output_type": "stream",
          "name": "stderr",
          "text": [
            "\n"
          ]
        },
        {
          "output_type": "stream",
          "name": "stdout",
          "text": [
            "Validation loss: loss: 39.75876235961914(cls: 39.75019454956055, reg: 0.008574148640036583)\n",
            "[+]Shuffling dataset...\n"
          ]
        },
        {
          "output_type": "stream",
          "name": "stderr",
          "text": [
            "Epoch 60 loss: 2.2614798545837402(cls: 2.2538819313049316, reg: 0.0075979651883244514): 100%|██████████| 127/127 [00:17<00:00,  7.32it/s]"
          ]
        },
        {
          "output_type": "stream",
          "name": "stdout",
          "text": [
            "Epoch 60 completed, loss: 2.5370895862579346(cls: 2.529008626937866, reg: 0.008080803789198399)\n"
          ]
        },
        {
          "output_type": "stream",
          "name": "stderr",
          "text": [
            "\n"
          ]
        },
        {
          "output_type": "stream",
          "name": "stdout",
          "text": [
            "Validation loss: loss: 40.064693450927734(cls: 40.05867004394531, reg: 0.006031927186995745)\n",
            "[+]Shuffling dataset...\n"
          ]
        },
        {
          "output_type": "stream",
          "name": "stderr",
          "text": [
            "Epoch 61 loss: 3.7270753383636475(cls: 3.722405433654785, reg: 0.004669905640184879): 100%|██████████| 127/127 [00:17<00:00,  7.34it/s]"
          ]
        },
        {
          "output_type": "stream",
          "name": "stdout",
          "text": [
            "Epoch 61 completed, loss: 2.536393165588379(cls: 2.5294101238250732, reg: 0.006983350496739149)\n"
          ]
        },
        {
          "output_type": "stream",
          "name": "stderr",
          "text": [
            "\n"
          ]
        },
        {
          "output_type": "stream",
          "name": "stdout",
          "text": [
            "Validation loss: loss: 40.47378158569336(cls: 40.46821975708008, reg: 0.005522145424038172)\n",
            "[+]Shuffling dataset...\n"
          ]
        },
        {
          "output_type": "stream",
          "name": "stderr",
          "text": [
            "Epoch 62 loss: 2.813311815261841(cls: 2.808041572570801, reg: 0.005270249675959349): 100%|██████████| 127/127 [00:17<00:00,  7.27it/s]"
          ]
        },
        {
          "output_type": "stream",
          "name": "stdout",
          "text": [
            "Epoch 62 completed, loss: 2.610046148300171(cls: 2.6029932498931885, reg: 0.0070520080626010895)\n"
          ]
        },
        {
          "output_type": "stream",
          "name": "stderr",
          "text": [
            "\n"
          ]
        },
        {
          "output_type": "stream",
          "name": "stdout",
          "text": [
            "Validation loss: loss: 40.06462860107422(cls: 40.055782318115234, reg: 0.008852241560816765)\n",
            "[+]Shuffling dataset...\n"
          ]
        },
        {
          "output_type": "stream",
          "name": "stderr",
          "text": [
            "Epoch 63 loss: 1.7521257400512695(cls: 1.7438311576843262, reg: 0.00829462893307209): 100%|██████████| 127/127 [00:17<00:00,  7.30it/s]"
          ]
        },
        {
          "output_type": "stream",
          "name": "stdout",
          "text": [
            "Epoch 63 completed, loss: 2.5285227298736572(cls: 2.521899700164795, reg: 0.006624344736337662)\n"
          ]
        },
        {
          "output_type": "stream",
          "name": "stderr",
          "text": [
            "\n"
          ]
        },
        {
          "output_type": "stream",
          "name": "stdout",
          "text": [
            "Validation loss: loss: 40.07902908325195(cls: 40.07358932495117, reg: 0.005439646542072296)\n",
            "[+]Shuffling dataset...\n"
          ]
        },
        {
          "output_type": "stream",
          "name": "stderr",
          "text": [
            "Epoch 64 loss: 2.4958324432373047(cls: 2.4903366565704346, reg: 0.005495905876159668): 100%|██████████| 127/127 [00:17<00:00,  7.29it/s]"
          ]
        },
        {
          "output_type": "stream",
          "name": "stdout",
          "text": [
            "Epoch 64 completed, loss: 2.5132977962493896(cls: 2.5072124004364014, reg: 0.006085171364247799)\n"
          ]
        },
        {
          "output_type": "stream",
          "name": "stderr",
          "text": [
            "\n"
          ]
        },
        {
          "output_type": "stream",
          "name": "stdout",
          "text": [
            "Validation loss: loss: 40.31452941894531(cls: 40.30679702758789, reg: 0.007728015538305044)\n",
            "[+]Shuffling dataset...\n"
          ]
        },
        {
          "output_type": "stream",
          "name": "stderr",
          "text": [
            "Epoch 65 loss: 3.0695252418518066(cls: 3.0616559982299805, reg: 0.007869217544794083): 100%|██████████| 127/127 [00:17<00:00,  7.27it/s]"
          ]
        },
        {
          "output_type": "stream",
          "name": "stdout",
          "text": [
            "Epoch 65 completed, loss: 2.479750633239746(cls: 2.472998857498169, reg: 0.006752354092895985)\n"
          ]
        },
        {
          "output_type": "stream",
          "name": "stderr",
          "text": [
            "\n"
          ]
        },
        {
          "output_type": "stream",
          "name": "stdout",
          "text": [
            "Validation loss: loss: 40.2116813659668(cls: 40.204017639160156, reg: 0.007651823107153177)\n",
            "[+]Shuffling dataset...\n"
          ]
        },
        {
          "output_type": "stream",
          "name": "stderr",
          "text": [
            "Epoch 66 loss: 1.8444650173187256(cls: 1.8376595973968506, reg: 0.006805455312132835): 100%|██████████| 127/127 [00:17<00:00,  7.36it/s]"
          ]
        },
        {
          "output_type": "stream",
          "name": "stdout",
          "text": [
            "Epoch 66 completed, loss: 2.3766260147094727(cls: 2.3703062534332275, reg: 0.006320428103208542)\n"
          ]
        },
        {
          "output_type": "stream",
          "name": "stderr",
          "text": [
            "\n"
          ]
        },
        {
          "output_type": "stream",
          "name": "stdout",
          "text": [
            "Validation loss: loss: 40.748294830322266(cls: 40.74077224731445, reg: 0.007489433512091637)\n",
            "[+]Shuffling dataset...\n"
          ]
        },
        {
          "output_type": "stream",
          "name": "stderr",
          "text": [
            "Epoch 67 loss: 1.440264344215393(cls: 1.433964490890503, reg: 0.00629980955272913): 100%|██████████| 127/127 [00:17<00:00,  7.36it/s]"
          ]
        },
        {
          "output_type": "stream",
          "name": "stdout",
          "text": [
            "Epoch 67 completed, loss: 2.362126350402832(cls: 2.3556694984436035, reg: 0.006456384435296059)\n"
          ]
        },
        {
          "output_type": "stream",
          "name": "stderr",
          "text": [
            "\n"
          ]
        },
        {
          "output_type": "stream",
          "name": "stdout",
          "text": [
            "Validation loss: loss: 40.6761589050293(cls: 40.668861389160156, reg: 0.007299704942852259)\n",
            "[+]Shuffling dataset...\n"
          ]
        },
        {
          "output_type": "stream",
          "name": "stderr",
          "text": [
            "Epoch 68 loss: 2.59834361076355(cls: 2.591362476348877, reg: 0.00698122987523675): 100%|██████████| 127/127 [00:17<00:00,  7.35it/s]"
          ]
        },
        {
          "output_type": "stream",
          "name": "stdout",
          "text": [
            "Epoch 68 completed, loss: 2.3839805126190186(cls: 2.3778433799743652, reg: 0.006137295160442591)\n"
          ]
        },
        {
          "output_type": "stream",
          "name": "stderr",
          "text": [
            "\n"
          ]
        },
        {
          "output_type": "stream",
          "name": "stdout",
          "text": [
            "Validation loss: loss: 40.837669372558594(cls: 40.831607818603516, reg: 0.006069088354706764)\n",
            "[+]Shuffling dataset...\n"
          ]
        },
        {
          "output_type": "stream",
          "name": "stderr",
          "text": [
            "Epoch 69 loss: 2.4648730754852295(cls: 2.459714412689209, reg: 0.005158653017133474): 100%|██████████| 127/127 [00:17<00:00,  7.22it/s]"
          ]
        },
        {
          "output_type": "stream",
          "name": "stdout",
          "text": [
            "Epoch 69 completed, loss: 2.3831324577331543(cls: 2.3770692348480225, reg: 0.006062739063054323)\n"
          ]
        },
        {
          "output_type": "stream",
          "name": "stderr",
          "text": [
            "\n"
          ]
        },
        {
          "output_type": "stream",
          "name": "stdout",
          "text": [
            "Validation loss: loss: 41.395870208740234(cls: 41.39014434814453, reg: 0.0057535842061042786)\n",
            "[+]Shuffling dataset...\n"
          ]
        },
        {
          "output_type": "stream",
          "name": "stderr",
          "text": [
            "Epoch 70 loss: 3.3690881729125977(cls: 3.363858699798584, reg: 0.005229353904724121): 100%|██████████| 127/127 [00:17<00:00,  7.18it/s]"
          ]
        },
        {
          "output_type": "stream",
          "name": "stdout",
          "text": [
            "Epoch 70 completed, loss: 2.3606011867523193(cls: 2.3549060821533203, reg: 0.005695861764252186)\n"
          ]
        },
        {
          "output_type": "stream",
          "name": "stderr",
          "text": [
            "\n"
          ]
        },
        {
          "output_type": "stream",
          "name": "stdout",
          "text": [
            "Validation loss: loss: 41.3485221862793(cls: 41.338558197021484, reg: 0.00997096672654152)\n",
            "[+]Shuffling dataset...\n"
          ]
        },
        {
          "output_type": "stream",
          "name": "stderr",
          "text": [
            "Epoch 71 loss: 2.6588258743286133(cls: 2.6502981185913086, reg: 0.008527846075594425): 100%|██████████| 127/127 [00:17<00:00,  7.30it/s]"
          ]
        },
        {
          "output_type": "stream",
          "name": "stdout",
          "text": [
            "Epoch 71 completed, loss: 2.4210803508758545(cls: 2.414806365966797, reg: 0.006273944396525621)\n"
          ]
        },
        {
          "output_type": "stream",
          "name": "stderr",
          "text": [
            "\n"
          ]
        },
        {
          "output_type": "stream",
          "name": "stdout",
          "text": [
            "Validation loss: loss: 41.12207794189453(cls: 41.115028381347656, reg: 0.00706158671528101)\n",
            "[+]Shuffling dataset...\n"
          ]
        },
        {
          "output_type": "stream",
          "name": "stderr",
          "text": [
            "Epoch 72 loss: 2.2678964138031006(cls: 2.2610421180725098, reg: 0.006854240782558918): 100%|██████████| 127/127 [00:17<00:00,  7.31it/s]"
          ]
        },
        {
          "output_type": "stream",
          "name": "stdout",
          "text": [
            "Epoch 72 completed, loss: 2.6107335090637207(cls: 2.6039016246795654, reg: 0.0068329088389873505)\n"
          ]
        },
        {
          "output_type": "stream",
          "name": "stderr",
          "text": [
            "\n"
          ]
        },
        {
          "output_type": "stream",
          "name": "stdout",
          "text": [
            "Validation loss: loss: 40.71703338623047(cls: 40.706756591796875, reg: 0.010285728611052036)\n",
            "[+]Shuffling dataset...\n"
          ]
        },
        {
          "output_type": "stream",
          "name": "stderr",
          "text": [
            "Epoch 73 loss: 3.9050097465515137(cls: 3.895170211791992, reg: 0.009839619509875774): 100%|██████████| 127/127 [00:17<00:00,  7.29it/s]"
          ]
        },
        {
          "output_type": "stream",
          "name": "stdout",
          "text": [
            "Epoch 73 completed, loss: 2.6979939937591553(cls: 2.6916401386260986, reg: 0.006354909855872393)\n"
          ]
        },
        {
          "output_type": "stream",
          "name": "stderr",
          "text": [
            "\n"
          ]
        },
        {
          "output_type": "stream",
          "name": "stdout",
          "text": [
            "Validation loss: loss: 40.014888763427734(cls: 40.008567810058594, reg: 0.006326151546090841)\n",
            "[+]Shuffling dataset...\n"
          ]
        },
        {
          "output_type": "stream",
          "name": "stderr",
          "text": [
            "Epoch 74 loss: 2.7492265701293945(cls: 2.7437429428100586, reg: 0.005483583547174931): 100%|██████████| 127/127 [00:17<00:00,  7.27it/s]"
          ]
        },
        {
          "output_type": "stream",
          "name": "stdout",
          "text": [
            "Epoch 74 completed, loss: 2.7875585556030273(cls: 2.7814018726348877, reg: 0.0061560566537082195)\n"
          ]
        },
        {
          "output_type": "stream",
          "name": "stderr",
          "text": [
            "\n"
          ]
        },
        {
          "output_type": "stream",
          "name": "stdout",
          "text": [
            "Validation loss: loss: 39.81277847290039(cls: 39.80714797973633, reg: 0.0056529175490140915)\n",
            "[+]Shuffling dataset...\n"
          ]
        },
        {
          "output_type": "stream",
          "name": "stderr",
          "text": [
            "Epoch 75 loss: 2.5490264892578125(cls: 2.5432519912719727, reg: 0.005774587392807007): 100%|██████████| 127/127 [00:17<00:00,  7.28it/s]"
          ]
        },
        {
          "output_type": "stream",
          "name": "stdout",
          "text": [
            "Epoch 75 completed, loss: 2.733380079269409(cls: 2.72778058052063, reg: 0.00560083007439971)\n"
          ]
        },
        {
          "output_type": "stream",
          "name": "stderr",
          "text": [
            "\n"
          ]
        },
        {
          "output_type": "stream",
          "name": "stdout",
          "text": [
            "Validation loss: loss: 39.746315002441406(cls: 39.73957061767578, reg: 0.006742487195879221)\n",
            "[+]Shuffling dataset...\n"
          ]
        },
        {
          "output_type": "stream",
          "name": "stderr",
          "text": [
            "Epoch 76 loss: 1.8895882368087769(cls: 1.8833880424499512, reg: 0.006200247444212437): 100%|██████████| 127/127 [00:17<00:00,  7.16it/s]"
          ]
        },
        {
          "output_type": "stream",
          "name": "stdout",
          "text": [
            "Epoch 76 completed, loss: 2.68506121635437(cls: 2.679381847381592, reg: 0.005678991787135601)\n"
          ]
        },
        {
          "output_type": "stream",
          "name": "stderr",
          "text": [
            "\n"
          ]
        },
        {
          "output_type": "stream",
          "name": "stdout",
          "text": [
            "Validation loss: loss: 38.59113311767578(cls: 38.584102630615234, reg: 0.0070134676061570644)\n",
            "[+]Shuffling dataset...\n"
          ]
        },
        {
          "output_type": "stream",
          "name": "stderr",
          "text": [
            "Epoch 77 loss: 2.482888698577881(cls: 2.4768853187561035, reg: 0.0060034869238734245):  62%|██████▏   | 79/127 [00:10<00:06,  7.42it/s]"
          ]
        }
      ],
      "source": [
        "try:\n",
        "    trainer.train(dataloader, val_dataloader=test_dataloader, epochs=EPOCHS, progress=True, progress_interval=1000, state=state, cls_loss_only=False)\n",
        "except TimeoutException:\n",
        "    pass"
      ]
    },
    {
      "cell_type": "code",
      "execution_count": null,
      "metadata": {
        "id": "Xl2WMZpiK-lZ"
      },
      "outputs": [],
      "source": [
        "ModelHandler.save(model, SAVE_PATH)"
      ]
    },
    {
      "cell_type": "code",
      "execution_count": null,
      "metadata": {
        "id": "HkPf9xkLK-la"
      },
      "outputs": [],
      "source": [
        "repository.update(trainer.state, trainer.model)"
      ]
    },
    {
      "cell_type": "code",
      "execution_count": null,
      "metadata": {
        "id": "ApxMgaNgK-la"
      },
      "outputs": [],
      "source": [
        "metrics = MetricsContainer()\n",
        "for metric in METRIC_REPOSITORY.get_all():\n",
        "    metrics.add_metric(metric)\n",
        "\n",
        "for i in range(3):\n",
        "    train_losses = [metric.value[i] for metric in metrics.filter_metrics(source=0)]\n",
        "    val_losses = [metric.value[i] for metric in metrics.filter_metrics(source=1)]\n",
        "    plt.figure()\n",
        "    plt.plot(train_losses)\n",
        "    plt.plot(val_losses)\n",
        "    plt.show()"
      ]
    },
    {
      "cell_type": "code",
      "execution_count": null,
      "metadata": {
        "id": "nYVd0TJnK-lb"
      },
      "outputs": [],
      "source": [
        "for X, y in test_dataloader:\n",
        "    break\n",
        "y_hat = model(X.to(trainer.device)).detach().cpu().numpy()\n",
        "\n",
        "import matplotlib.pyplot as plt\n",
        "def softmax(x):\n",
        "    exp_x = np.exp(x - np.max(x))\n",
        "    softmax_x = exp_x / np.sum(exp_x)\n",
        "    return softmax_x\n",
        "\n",
        "def scale(x):\n",
        "    x = softmax(x)\n",
        "    x = x / np.max(x)\n",
        "    return x\n",
        "\n",
        "for i in range(y_hat.shape[0]):\n",
        "    plt.figure()\n",
        "    plt.plot(y[i, :-1])\n",
        "    plt.plot(scale(y_hat[i, :-1]))\n"
      ]
    },
    {
      "cell_type": "code",
      "execution_count": null,
      "metadata": {
        "id": "tpA11eD0K-lb"
      },
      "outputs": [],
      "source": [
        "!rm -fr r_trader"
      ]
    },
    {
      "cell_type": "code",
      "execution_count": null,
      "metadata": {
        "id": "RhDWVVZ4K-lc"
      },
      "outputs": [],
      "source": []
    }
  ],
  "metadata": {
    "colab": {
      "provenance": [],
      "gpuType": "T4"
    },
    "kaggle": {
      "accelerator": "none",
      "dataSources": [
        {
          "sourceId": 199105437,
          "sourceType": "kernelVersion"
        },
        {
          "sourceId": 199602130,
          "sourceType": "kernelVersion"
        },
        {
          "sourceId": 199602285,
          "sourceType": "kernelVersion"
        },
        {
          "sourceId": 199602296,
          "sourceType": "kernelVersion"
        }
      ],
      "dockerImageVersionId": 30673,
      "isGpuEnabled": false,
      "isInternetEnabled": true,
      "language": "python",
      "sourceType": "notebook"
    },
    "kernelspec": {
      "display_name": "Python 3",
      "name": "python3"
    },
    "language_info": {
      "codemirror_mode": {
        "name": "ipython",
        "version": 3
      },
      "file_extension": ".py",
      "mimetype": "text/x-python",
      "name": "python",
      "nbconvert_exporter": "python",
      "pygments_lexer": "ipython3",
      "version": "3.8.19"
    },
    "accelerator": "GPU"
  },
  "nbformat": 4,
  "nbformat_minor": 0
}