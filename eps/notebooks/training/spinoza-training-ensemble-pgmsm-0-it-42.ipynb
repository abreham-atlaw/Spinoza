{
 "cells": [
  {
   "cell_type": "code",
   "execution_count": 1,
   "metadata": {
    "_cell_guid": "b1076dfc-b9ad-4769-8c92-a6c4dae69d19",
    "_uuid": "8f2839f25d086af736a60e9eeb907d3b93b6e0e5",
    "execution": {
     "iopub.execute_input": "2025-07-13T07:03:14.256390Z",
     "iopub.status.busy": "2025-07-13T07:03:14.256146Z",
     "iopub.status.idle": "2025-07-13T07:03:47.314747Z",
     "shell.execute_reply": "2025-07-13T07:03:47.313436Z",
     "shell.execute_reply.started": "2025-07-13T07:03:14.256368Z"
    }
   },
   "outputs": [
    {
     "name": "stdout",
     "output_type": "stream",
     "text": [
      "Cloning into 'r_trader'...\n",
      "remote: Enumerating objects: 25004, done.\u001b[K\n",
      "remote: Counting objects: 100% (616/616), done.\u001b[K\n",
      "remote: Compressing objects: 100% (340/340), done.\u001b[K\n",
      "remote: Total 25004 (delta 393), reused 446 (delta 270), pack-reused 24388 (from 1)\u001b[K\n",
      "Receiving objects: 100% (25004/25004), 78.61 MiB | 26.03 MiB/s, done.\n",
      "Resolving deltas: 100% (18462/18462), done.\n",
      "Branch 'deep-reinforcement.it-42.training' set up to track remote branch 'deep-reinforcement.it-42.training' from 'origin'.\n",
      "Switched to a new branch 'deep-reinforcement.it-42.training'\n",
      "Collecting cattrs\n",
      "  Downloading cattrs-25.1.1-py3-none-any.whl.metadata (8.4 kB)\n",
      "Collecting positional-encodings==6.0.1\n",
      "  Downloading positional_encodings-6.0.1-py3-none-any.whl.metadata (6.6 kB)\n",
      "Collecting dropbox\n",
      "  Downloading dropbox-12.0.2-py3-none-any.whl.metadata (4.3 kB)\n",
      "Collecting pymongo==4.3.3\n",
      "  Downloading pymongo-4.3.3-cp311-cp311-manylinux_2_17_x86_64.manylinux2014_x86_64.whl.metadata (8.6 kB)\n",
      "Collecting dependency-injector==4.41.0\n",
      "  Downloading dependency_injector-4.41.0-cp311-cp311-manylinux_2_17_x86_64.manylinux2014_x86_64.whl.metadata (12 kB)\n",
      "Requirement already satisfied: numpy in /usr/local/lib/python3.11/dist-packages (from positional-encodings==6.0.1) (1.26.4)\n",
      "Requirement already satisfied: dnspython<3.0.0,>=1.16.0 in /usr/local/lib/python3.11/dist-packages (from pymongo==4.3.3) (2.7.0)\n",
      "Collecting six<=1.16.0,>=1.7.0 (from dependency-injector==4.41.0)\n",
      "  Downloading six-1.16.0-py2.py3-none-any.whl.metadata (1.8 kB)\n",
      "Requirement already satisfied: attrs>=24.3.0 in /usr/local/lib/python3.11/dist-packages (from cattrs) (25.3.0)\n",
      "Requirement already satisfied: typing-extensions>=4.12.2 in /usr/local/lib/python3.11/dist-packages (from cattrs) (4.13.2)\n",
      "Requirement already satisfied: requests>=2.16.2 in /usr/local/lib/python3.11/dist-packages (from dropbox) (2.32.3)\n",
      "Collecting stone<3.3.3,>=2 (from dropbox)\n",
      "  Downloading stone-3.3.1-py3-none-any.whl.metadata (8.0 kB)\n",
      "Requirement already satisfied: charset-normalizer<4,>=2 in /usr/local/lib/python3.11/dist-packages (from requests>=2.16.2->dropbox) (3.4.2)\n",
      "Requirement already satisfied: idna<4,>=2.5 in /usr/local/lib/python3.11/dist-packages (from requests>=2.16.2->dropbox) (3.10)\n",
      "Requirement already satisfied: urllib3<3,>=1.21.1 in /usr/local/lib/python3.11/dist-packages (from requests>=2.16.2->dropbox) (2.4.0)\n",
      "Requirement already satisfied: certifi>=2017.4.17 in /usr/local/lib/python3.11/dist-packages (from requests>=2.16.2->dropbox) (2025.4.26)\n",
      "Requirement already satisfied: ply>=3.4 in /usr/local/lib/python3.11/dist-packages (from stone<3.3.3,>=2->dropbox) (3.11)\n",
      "Requirement already satisfied: mkl_fft in /usr/local/lib/python3.11/dist-packages (from numpy->positional-encodings==6.0.1) (1.3.8)\n",
      "Requirement already satisfied: mkl_random in /usr/local/lib/python3.11/dist-packages (from numpy->positional-encodings==6.0.1) (1.2.4)\n",
      "Requirement already satisfied: mkl_umath in /usr/local/lib/python3.11/dist-packages (from numpy->positional-encodings==6.0.1) (0.1.1)\n",
      "Requirement already satisfied: mkl in /usr/local/lib/python3.11/dist-packages (from numpy->positional-encodings==6.0.1) (2025.1.0)\n",
      "Requirement already satisfied: tbb4py in /usr/local/lib/python3.11/dist-packages (from numpy->positional-encodings==6.0.1) (2022.1.0)\n",
      "Requirement already satisfied: mkl-service in /usr/local/lib/python3.11/dist-packages (from numpy->positional-encodings==6.0.1) (2.4.1)\n",
      "Requirement already satisfied: intel-openmp<2026,>=2024 in /usr/local/lib/python3.11/dist-packages (from mkl->numpy->positional-encodings==6.0.1) (2024.2.0)\n",
      "Requirement already satisfied: tbb==2022.* in /usr/local/lib/python3.11/dist-packages (from mkl->numpy->positional-encodings==6.0.1) (2022.1.0)\n",
      "Requirement already satisfied: tcmlib==1.* in /usr/local/lib/python3.11/dist-packages (from tbb==2022.*->mkl->numpy->positional-encodings==6.0.1) (1.3.0)\n",
      "Requirement already satisfied: intel-cmplr-lib-rt in /usr/local/lib/python3.11/dist-packages (from mkl_umath->numpy->positional-encodings==6.0.1) (2024.2.0)\n",
      "Requirement already satisfied: intel-cmplr-lib-ur==2024.2.0 in /usr/local/lib/python3.11/dist-packages (from intel-openmp<2026,>=2024->mkl->numpy->positional-encodings==6.0.1) (2024.2.0)\n",
      "Downloading positional_encodings-6.0.1-py3-none-any.whl (7.5 kB)\n",
      "Downloading pymongo-4.3.3-cp311-cp311-manylinux_2_17_x86_64.manylinux2014_x86_64.whl (494 kB)\n",
      "\u001b[2K   \u001b[90m━━━━━━━━━━━━━━━━━━━━━━━━━━━━━━━━━━━━━━━━\u001b[0m \u001b[32m494.9/494.9 kB\u001b[0m \u001b[31m15.0 MB/s\u001b[0m eta \u001b[36m0:00:00\u001b[0m\n",
      "\u001b[?25hDownloading dependency_injector-4.41.0-cp311-cp311-manylinux_2_17_x86_64.manylinux2014_x86_64.whl (4.4 MB)\n",
      "\u001b[2K   \u001b[90m━━━━━━━━━━━━━━━━━━━━━━━━━━━━━━━━━━━━━━━━\u001b[0m \u001b[32m4.4/4.4 MB\u001b[0m \u001b[31m71.8 MB/s\u001b[0m eta \u001b[36m0:00:00\u001b[0m:00:01\u001b[0m\n",
      "\u001b[?25hDownloading cattrs-25.1.1-py3-none-any.whl (69 kB)\n",
      "\u001b[2K   \u001b[90m━━━━━━━━━━━━━━━━━━━━━━━━━━━━━━━━━━━━━━━━\u001b[0m \u001b[32m69.4/69.4 kB\u001b[0m \u001b[31m3.2 MB/s\u001b[0m eta \u001b[36m0:00:00\u001b[0m\n",
      "\u001b[?25hDownloading dropbox-12.0.2-py3-none-any.whl (572 kB)\n",
      "\u001b[2K   \u001b[90m━━━━━━━━━━━━━━━━━━━━━━━━━━━━━━━━━━━━━━━━\u001b[0m \u001b[32m572.1/572.1 kB\u001b[0m \u001b[31m28.1 MB/s\u001b[0m eta \u001b[36m0:00:00\u001b[0m\n",
      "\u001b[?25hDownloading six-1.16.0-py2.py3-none-any.whl (11 kB)\n",
      "Downloading stone-3.3.1-py3-none-any.whl (162 kB)\n",
      "\u001b[2K   \u001b[90m━━━━━━━━━━━━━━━━━━━━━━━━━━━━━━━━━━━━━━━━\u001b[0m \u001b[32m162.3/162.3 kB\u001b[0m \u001b[31m8.0 MB/s\u001b[0m eta \u001b[36m0:00:00\u001b[0m\n",
      "\u001b[?25hInstalling collected packages: six, pymongo, cattrs, stone, dependency-injector, dropbox, positional-encodings\n",
      "  Attempting uninstall: six\n",
      "    Found existing installation: six 1.17.0\n",
      "    Uninstalling six-1.17.0:\n",
      "      Successfully uninstalled six-1.17.0\n",
      "  Attempting uninstall: pymongo\n",
      "    Found existing installation: pymongo 4.12.1\n",
      "    Uninstalling pymongo-4.12.1:\n",
      "      Successfully uninstalled pymongo-4.12.1\n",
      "\u001b[31mERROR: pip's dependency resolver does not currently take into account all the packages that are installed. This behaviour is the source of the following dependency conflicts.\n",
      "datasets 3.6.0 requires fsspec[http]<=2025.3.0,>=2023.1.0, but you have fsspec 2025.3.2 which is incompatible.\n",
      "cesium 0.12.4 requires numpy<3.0,>=2.0, but you have numpy 1.26.4 which is incompatible.\n",
      "google-colab 1.0.0 requires google-auth==2.38.0, but you have google-auth 2.40.1 which is incompatible.\n",
      "google-colab 1.0.0 requires notebook==6.5.7, but you have notebook 6.5.4 which is incompatible.\n",
      "google-colab 1.0.0 requires pandas==2.2.2, but you have pandas 2.2.3 which is incompatible.\n",
      "dopamine-rl 4.1.2 requires gymnasium>=1.0.0, but you have gymnasium 0.29.0 which is incompatible.\n",
      "ibis-framework 9.5.0 requires toolz<1,>=0.11, but you have toolz 1.0.0 which is incompatible.\n",
      "bigframes 1.42.0 requires rich<14,>=12.4.4, but you have rich 14.0.0 which is incompatible.\n",
      "plotnine 0.14.5 requires matplotlib>=3.8.0, but you have matplotlib 3.7.2 which is incompatible.\n",
      "pandas-gbq 0.28.0 requires google-api-core<3.0.0dev,>=2.10.2, but you have google-api-core 1.34.1 which is incompatible.\n",
      "mlxtend 0.23.4 requires scikit-learn>=1.3.1, but you have scikit-learn 1.2.2 which is incompatible.\u001b[0m\u001b[31m\n",
      "\u001b[0mSuccessfully installed cattrs-25.1.1 dependency-injector-4.41.0 dropbox-12.0.2 positional-encodings-6.0.1 pymongo-4.3.3 six-1.16.0 stone-3.3.1\n"
     ]
    }
   ],
   "source": [
    "!rm -fr r_trader out\n",
    "!mkdir out\n",
    "!git clone https://github.com/abreham-atlaw/r_trader\n",
    "!cd r_trader && git checkout deep-reinforcement.it-42.training\n",
    "!pip install cattrs positional-encodings==6.0.1 dropbox pymongo==4.3.3 dependency-injector==4.41.0"
   ]
  },
  {
   "cell_type": "code",
   "execution_count": 2,
   "metadata": {
    "execution": {
     "iopub.execute_input": "2025-07-13T07:03:47.318433Z",
     "iopub.status.busy": "2025-07-13T07:03:47.317644Z",
     "iopub.status.idle": "2025-07-13T07:03:47.323199Z",
     "shell.execute_reply": "2025-07-13T07:03:47.322110Z",
     "shell.execute_reply.started": "2025-07-13T07:03:47.318402Z"
    }
   },
   "outputs": [],
   "source": [
    "import os\n",
    "KAGGLE_ENV = os.path.exists(\"/kaggle/working\")\n",
    "REPO_PATH = \"/kaggle/working/r_trader\" if KAGGLE_ENV else \"/content/r_trader\"\n",
    "\n",
    "print(f\"KAGGLE ENV: {KAGGLE_ENV}\")\n",
    "\n",
    "import sys\n",
    "sys.path.append(REPO_PATH)"
   ]
  },
  {
   "cell_type": "code",
   "execution_count": 3,
   "metadata": {
    "execution": {
     "iopub.execute_input": "2025-07-13T07:03:47.324457Z",
     "iopub.status.busy": "2025-07-13T07:03:47.324182Z",
     "iopub.status.idle": "2025-07-13T07:03:56.713463Z",
     "shell.execute_reply": "2025-07-13T07:03:56.712536Z",
     "shell.execute_reply.started": "2025-07-13T07:03:47.324428Z"
    }
   },
   "outputs": [
    {
     "name": "stdout",
     "output_type": "stream",
     "text": [
      "\u001b[30;103m PID:35 [2025-07-13 07:03:56.709311]  XLA is not installed. Training using TPU will not be possible. \u001b[0m\n"
     ]
    }
   ],
   "source": [
    "import os\n",
    "\n",
    "from lib.utils.torch_utils.model_handler import ModelHandler\n",
    "from core.di import ServiceProvider\n",
    "from lib.utils.logger import Logger\n",
    "from core import Config\n",
    "\n",
    "from core.utils.research.model.layers import L1Norm\n",
    "from core.utils.research.utils.ensemble.pg_msm.pg_msm_builder import PerformanceGridMSMBuilder\n",
    "from core.utils.research.losses import ProximalMaskedLoss, MeanSquaredErrorLoss, MultiLoss, ScoreLoss, SoftConfidenceScore\n",
    "from core.utils.research.data.prepare.swg.manipulate import ReciprocateSampleWeightManipulator\n",
    "from core.utils.research.data.prepare.swg.swg_pipeline import SampleWeightGeneratorPipeline\n",
    "from core.utils.research.data.prepare.swg.xswg import MomentumXSampleWeightGenerator\n",
    "from core.utils.research.utils.model_evaluator import ModelEvaluator\n",
    "from core.utils.kaggle.data_repository import KaggleDataRepository"
   ]
  },
  {
   "cell_type": "code",
   "execution_count": null,
   "metadata": {},
   "outputs": [],
   "source": [
    "def download_data(root, datasets, zip_filename, kernel_mode=True, checksums=None):\n",
    "    repository = KaggleDataRepository(\n",
    "        output_path=root,\n",
    "        zip_filename=zip_filename\n",
    "    )\n",
    "    repository.download_multiple(datasets, kernel=kernel_mode, checksums=checksums)\n",
    "    os.system(f\"unzip -d root/\")"
   ]
  },
  {
   "cell_type": "code",
   "execution_count": 4,
   "metadata": {
    "execution": {
     "iopub.execute_input": "2025-07-13T07:03:56.714913Z",
     "iopub.status.busy": "2025-07-13T07:03:56.714404Z",
     "iopub.status.idle": "2025-07-13T07:03:56.722762Z",
     "shell.execute_reply": "2025-07-13T07:03:56.721731Z",
     "shell.execute_reply.started": "2025-07-13T07:03:56.714890Z"
    }
   },
   "outputs": [],
   "source": [
    "DATA_ROOT = \"/kaggle/input\" if KAGGLE_ENV else \"/content/input\"\n",
    "\n",
    "DATASETS = [\n",
    "    f\"abrehamatlaw0/spinoza-ds-datapreparer-simsim-it-42-{i}\"\n",
    "    for i in range(4)\n",
    "]\n",
    "CHECKSUMS = [\n",
    "    'a42f2e67483d937fa57026d3af3c95504caf3594872121059af04d0bd079a3a9',\n",
    "]\n",
    "CHECKSUMS = None\n",
    "KERNEL_MODE = False\n",
    "ZIP_FILENAME = \"out.zip\"\n",
    "if not KAGGLE_ENV:\n",
    "    download_data(DATA_ROOT, DATASETS, ZIP_FILENAME, kernel_mode=KERNEL_MODE, checksums=CHECKSUMS)\n",
    "\n",
    "CONTAINERS = [os.path.join(DATA_ROOT, container) for container in os.listdir(DATA_ROOT)]\n",
    "DATA_PATHES, TEST_DATA_PATHES = [\n",
    "    [\n",
    "        os.path.join(container, \"out\", type_)\n",
    "        for container in CONTAINERS\n",
    "    ]\n",
    "    for type_ in [\"train\", \"test\"]\n",
    "]\n",
    "\n",
    "MODEL_ID = \"abrehamalemu-spinoza-training-ensemble-pgmsm-0-it-42\"\n",
    "\n",
    "TMP_PATH = \"/kaggle/working/out/\"\n",
    "SAVE_PATH = os.path.join(TMP_PATH, f\"{MODEL_ID}.zip\")\n",
    "UPLOAD_PATH = \"/Apps/RTrader/\"\n",
    "\n",
    "MODELS_PATHS = [\n",
    "    f\"/Apps/RTrader/{model_id}.zip\"\n",
    "    for model_id in [\n",
    "        f\"abrehamalemu-spinoza-training-pgmsm-cnn-{i}-it-42-tot\"\n",
    "        for i in [0, 1]\n",
    "    ]\n",
    "]\n",
    "\n",
    "WEIGHT_GENERATORS = [\n",
    "    MomentumXSampleWeightGenerator(),\n",
    "    SampleWeightGeneratorPipeline(\n",
    "        generators=[\n",
    "            MomentumXSampleWeightGenerator(),\n",
    "            ReciprocateSampleWeightManipulator(),\n",
    "        ]\n",
    "    )\n",
    "]"
   ]
  },
  {
   "cell_type": "code",
   "execution_count": 5,
   "metadata": {
    "execution": {
     "iopub.execute_input": "2025-07-13T07:03:56.724516Z",
     "iopub.status.busy": "2025-07-13T07:03:56.724155Z",
     "iopub.status.idle": "2025-07-13T07:03:56.779432Z",
     "shell.execute_reply": "2025-07-13T07:03:56.778361Z",
     "shell.execute_reply.started": "2025-07-13T07:03:56.724483Z"
    }
   },
   "outputs": [],
   "source": [
    "fs = ServiceProvider.provide_file_storage()"
   ]
  },
  {
   "cell_type": "code",
   "execution_count": 6,
   "metadata": {
    "execution": {
     "iopub.execute_input": "2025-07-13T07:03:56.782293Z",
     "iopub.status.busy": "2025-07-13T07:03:56.782007Z",
     "iopub.status.idle": "2025-07-13T07:03:56.803227Z",
     "shell.execute_reply": "2025-07-13T07:03:56.802036Z",
     "shell.execute_reply.started": "2025-07-13T07:03:56.782272Z"
    }
   },
   "outputs": [],
   "source": [
    "def load_models():\n",
    "    \n",
    "    def load_model(model_path):\n",
    "        Logger.info(f\"Loading {model_path}...\")\n",
    "        local_path = os.path.basename(model_path)\n",
    "        if not os.path.exists(local_path):\n",
    "            fs.download(model_path, local_path)\n",
    "        return ModelHandler.load(local_path)\n",
    "\n",
    "    fs = ServiceProvider.provide_file_storage()\n",
    "    \n",
    "    return [\n",
    "        load_model(path)\n",
    "        for path in MODELS_PATHS\n",
    "    ]"
   ]
  },
  {
   "cell_type": "code",
   "execution_count": 7,
   "metadata": {
    "execution": {
     "iopub.execute_input": "2025-07-13T07:03:56.804547Z",
     "iopub.status.busy": "2025-07-13T07:03:56.804263Z",
     "iopub.status.idle": "2025-07-13T07:04:03.585295Z",
     "shell.execute_reply": "2025-07-13T07:04:03.584226Z",
     "shell.execute_reply.started": "2025-07-13T07:03:56.804525Z"
    }
   },
   "outputs": [
    {
     "name": "stdout",
     "output_type": "stream",
     "text": [
      "\u001b[94m PID:35 [2025-07-13 07:03:56.819106]  Loading /Apps/RTrader/abrehamalemu-spinoza-training-pgmsm-cnn-0-it-42-tot.zip... \u001b[0m\n",
      "\u001b[94m PID:35 [2025-07-13 07:03:59.541106]  Using Storage 2 for /Apps/RTrader/abrehamalemu-spinoza-training-pgmsm-cnn-0-it-42-tot.zip \u001b[0m\n"
     ]
    },
    {
     "name": "stderr",
     "output_type": "stream",
     "text": [
      "2025-07-13 07:04:00 URL:http://p-lux3.pcloud.com/cBZAuaFccZjfeSBD7Znvzs7ZZrAeMVkZqZZGhkZkZOQuiZ9LZezZPpZp8ZzzZFLZKFZGQZ0zZ6RZCRZtpZUHZGzZS3JB5Z7Rw68XbR96HwLRzwNW0cbpj6PiB7/abrehamalemu-spinoza-training-pgmsm-cnn-0-it-42-tot.zip [13024524/13024524] -> \"abrehamalemu-spinoza-training-pgmsm-cnn-0-it-42-tot.zip\" [1]\n"
     ]
    },
    {
     "name": "stdout",
     "output_type": "stream",
     "text": [
      "\u001b[94m PID:35 [2025-07-13 07:04:00.664224]  [CNN2] Building... \u001b[0m\n",
      "\u001b[94m PID:35 [2025-07-13 07:04:00.673603]  [EmbeddingBlock] Building... \u001b[0m\n",
      "\u001b[94m PID:35 [2025-07-13 07:04:00.677543]  [Indicators] Building... \u001b[0m\n",
      "\u001b[94m PID:35 [2025-07-13 07:04:00.690742]  [CNNBlock] Building... \u001b[0m\n",
      "\u001b[94m PID:35 [2025-07-13 07:04:00.909950]  [CollapseBlock] Building... \u001b[0m\n",
      "\u001b[94m PID:35 [2025-07-13 07:04:00.911726]  [LinearModel] Building... \u001b[0m\n",
      "\u001b[94m PID:35 [2025-07-13 07:04:00.983034]  Loading /Apps/RTrader/abrehamalemu-spinoza-training-pgmsm-cnn-1-it-42-tot.zip... \u001b[0m\n",
      "\u001b[94m PID:35 [2025-07-13 07:04:02.483271]  Using Storage 1 for /Apps/RTrader/abrehamalemu-spinoza-training-pgmsm-cnn-1-it-42-tot.zip \u001b[0m\n",
      "\u001b[94m PID:35 [2025-07-13 07:04:03.507023]  [CNN2] Building... \u001b[0m\n",
      "\u001b[94m PID:35 [2025-07-13 07:04:03.507268]  [EmbeddingBlock] Building... \u001b[0m\n",
      "\u001b[94m PID:35 [2025-07-13 07:04:03.507710]  [Indicators] Building... \u001b[0m\n",
      "\u001b[94m PID:35 [2025-07-13 07:04:03.508017]  [CNNBlock] Building... \u001b[0m\n",
      "\u001b[94m PID:35 [2025-07-13 07:04:03.525404]  [CollapseBlock] Building... \u001b[0m\n",
      "\u001b[94m PID:35 [2025-07-13 07:04:03.525865]  [LinearModel] Building... \u001b[0m\n"
     ]
    },
    {
     "name": "stderr",
     "output_type": "stream",
     "text": [
      "2025-07-13 07:04:03 URL:http://p-lux1.pcloud.com/cBZaUVpccZv5fSBD7ZHDks7ZZyNeMVkZqZZGhkZkZOQuiZ3FZ0QZr4ZnRZm4ZhQZWzZXzZcpZhRZzYZU4Z9HZnYZs3JB5ZyFXCM1iFxvQ5CkqbudOGlJqgXpWV/abrehamalemu-spinoza-training-pgmsm-cnn-1-it-42-tot.zip [13024524/13024524] -> \"abrehamalemu-spinoza-training-pgmsm-cnn-1-it-42-tot.zip\" [1]\n"
     ]
    }
   ],
   "source": [
    "models = load_models()"
   ]
  },
  {
   "cell_type": "code",
   "execution_count": 8,
   "metadata": {
    "execution": {
     "iopub.execute_input": "2025-07-13T07:04:03.586784Z",
     "iopub.status.busy": "2025-07-13T07:04:03.586524Z",
     "iopub.status.idle": "2025-07-13T07:04:03.607006Z",
     "shell.execute_reply": "2025-07-13T07:04:03.605892Z",
     "shell.execute_reply.started": "2025-07-13T07:04:03.586764Z"
    }
   },
   "outputs": [],
   "source": [
    "loss = ProximalMaskedLoss(\n",
    "    n=len(Config.AGENT_STATE_CHANGE_DELTA_STATIC_BOUND) + 1 ,\n",
    "    p=1,\n",
    "    softmax=True,\n",
    "    collapsed=True\n",
    ")"
   ]
  },
  {
   "cell_type": "code",
   "execution_count": 9,
   "metadata": {
    "execution": {
     "iopub.execute_input": "2025-07-13T07:04:03.608224Z",
     "iopub.status.busy": "2025-07-13T07:04:03.607983Z",
     "iopub.status.idle": "2025-07-13T07:04:03.613743Z",
     "shell.execute_reply": "2025-07-13T07:04:03.612759Z",
     "shell.execute_reply.started": "2025-07-13T07:04:03.608205Z"
    }
   },
   "outputs": [
    {
     "name": "stdout",
     "output_type": "stream",
     "text": [
      "\u001b[30;103m PID:35 [2025-07-13 07:04:03.609241]  Detected that loss is either not SpinozaLoss or Sample Weight is not enabled. \u001b[0m\n"
     ]
    }
   ],
   "source": [
    "builder = PerformanceGridMSMBuilder(\n",
    "    data_paths=DATA_PATHES,\n",
    "    generators=WEIGHT_GENERATORS,\n",
    "    tmp_path=TMP_PATH,\n",
    "    loss=loss\n",
    ")"
   ]
  },
  {
   "cell_type": "code",
   "execution_count": 10,
   "metadata": {
    "execution": {
     "iopub.execute_input": "2025-07-13T07:04:03.615569Z",
     "iopub.status.busy": "2025-07-13T07:04:03.614558Z",
     "iopub.status.idle": "2025-07-13T07:04:03.632161Z",
     "shell.execute_reply": "2025-07-13T07:04:03.631023Z",
     "shell.execute_reply.started": "2025-07-13T07:04:03.615542Z"
    }
   },
   "outputs": [],
   "source": [
    "evaluator = ModelEvaluator(\n",
    "    cls_loss_fn=loss,\n",
    "    data_path=TEST_DATA_PATHES,\n",
    ")"
   ]
  },
  {
   "cell_type": "code",
   "execution_count": null,
   "metadata": {
    "execution": {
     "execution_failed": "2025-07-13T07:08:10.871Z",
     "iopub.execute_input": "2025-07-13T07:04:03.634299Z",
     "iopub.status.busy": "2025-07-13T07:04:03.633232Z"
    }
   },
   "outputs": [
    {
     "name": "stdout",
     "output_type": "stream",
     "text": [
      "\u001b[94m PID:35 [2025-07-13 07:04:03.648756]  Generating weights... \u001b[0m\n",
      "\u001b[94m PID:35 [2025-07-13 07:04:03.648953]  Generating weights for Generator: MomentumXSampleWeightGenerator... \u001b[0m\n",
      "\u001b[94m PID:35 [2025-07-13 07:04:03.649360]  Setting up... \u001b[0m\n",
      "\u001b[94m PID:35 [2025-07-13 07:04:03.649462]  Processing 4 directories... \u001b[0m\n",
      "\u001b[94m PID:35 [2025-07-13 07:04:03.649495]  Processing ('/kaggle/input/rtrader-datapreparer-simsim-it-42-3/out/train/X',) \u001b[0m\n",
      "\u001b[92m PID:35 [2025-07-13 07:07:11.212726]  Successfully processed files! \u001b[0m\n",
      "\u001b[94m PID:35 [2025-07-13 07:07:11.213215]  Processing ('/kaggle/input/rtrader-datapreparer-simsim-it-42-1/out/train/X',) \u001b[0m\n",
      "\u001b[94m PID:35 [2025-07-13 07:08:10.539510]  [+]Processed 35.59% \u001b[0m\r"
     ]
    }
   ],
   "source": [
    "model = builder.build(\n",
    "    models=models,\n",
    "    activation=L1Norm()\n",
    ")"
   ]
  },
  {
   "cell_type": "code",
   "execution_count": null,
   "metadata": {
    "execution": {
     "execution_failed": "2025-07-13T07:08:10.872Z"
    }
   },
   "outputs": [],
   "source": [
    "ModelHandler.save(model, SAVE_PATH)\n",
    "fs.upload_file(SAVE_PATH, UPLOAD_PATH)"
   ]
  },
  {
   "cell_type": "code",
   "execution_count": null,
   "metadata": {
    "execution": {
     "execution_failed": "2025-07-13T07:08:10.873Z"
    }
   },
   "outputs": [],
   "source": [
    "evaluator.evaluate(model)"
   ]
  },
  {
   "cell_type": "code",
   "execution_count": null,
   "metadata": {
    "execution": {
     "execution_failed": "2025-07-13T07:08:10.874Z"
    }
   },
   "outputs": [],
   "source": [
    "!rm -fr r_trader"
   ]
  },
  {
   "cell_type": "code",
   "execution_count": null,
   "metadata": {},
   "outputs": [],
   "source": []
  }
 ],
 "metadata": {
  "kaggle": {
   "accelerator": "none",
   "dataSources": [
    {
     "sourceId": 247959961,
     "sourceType": "kernelVersion"
    },
    {
     "sourceId": 247959984,
     "sourceType": "kernelVersion"
    },
    {
     "sourceId": 247960207,
     "sourceType": "kernelVersion"
    },
    {
     "sourceId": 247960278,
     "sourceType": "kernelVersion"
    }
   ],
   "dockerImageVersionId": 31040,
   "isGpuEnabled": false,
   "isInternetEnabled": true,
   "language": "python",
   "sourceType": "notebook"
  },
  "kernelspec": {
   "display_name": "Python 3 (ipykernel)",
   "language": "python",
   "name": "python3"
  },
  "language_info": {
   "codemirror_mode": {
    "name": "ipython",
    "version": 3
   },
   "file_extension": ".py",
   "mimetype": "text/x-python",
   "name": "python",
   "nbconvert_exporter": "python",
   "pygments_lexer": "ipython3",
   "version": "3.8.20"
  }
 },
 "nbformat": 4,
 "nbformat_minor": 4
}
